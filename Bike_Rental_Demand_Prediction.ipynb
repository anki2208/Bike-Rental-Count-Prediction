{
  "nbformat": 4,
  "nbformat_minor": 0,
  "metadata": {
    "colab": {
      "name": "Bike Rental Demand Prediction",
      "provenance": [],
      "authorship_tag": "ABX9TyPWsJd3cjh5iH3u0JdUuUY6",
      "include_colab_link": true
    },
    "kernelspec": {
      "name": "python3",
      "display_name": "Python 3"
    },
    "language_info": {
      "name": "python"
    }
  },
  "cells": [
    {
      "cell_type": "markdown",
      "metadata": {
        "id": "view-in-github",
        "colab_type": "text"
      },
      "source": [
        "<a href=\"https://colab.research.google.com/github/anki2208/Bike-Rental-Count-Prediction/blob/main/Bike_Rental_Demand_Prediction.ipynb\" target=\"_parent\"><img src=\"https://colab.research.google.com/assets/colab-badge.svg\" alt=\"Open In Colab\"/></a>"
      ]
    },
    {
      "cell_type": "code",
      "metadata": {
        "id": "42j15fjUn1aa"
      },
      "source": [
        "import numpy as np \n",
        "import pandas as pd\n",
        "import matplotlib.pyplot as plt\n",
        "import seaborn as sns\n",
        "from sklearn.model_selection import train_test_split\n",
        "import warnings\n",
        "warnings.filterwarnings('ignore')\n",
        "import os"
      ],
      "execution_count": 16,
      "outputs": []
    },
    {
      "cell_type": "code",
      "metadata": {
        "colab": {
          "resources": {
            "http://localhost:8080/nbextensions/google.colab/files.js": {
              "data": "Ly8gQ29weXJpZ2h0IDIwMTcgR29vZ2xlIExMQwovLwovLyBMaWNlbnNlZCB1bmRlciB0aGUgQXBhY2hlIExpY2Vuc2UsIFZlcnNpb24gMi4wICh0aGUgIkxpY2Vuc2UiKTsKLy8geW91IG1heSBub3QgdXNlIHRoaXMgZmlsZSBleGNlcHQgaW4gY29tcGxpYW5jZSB3aXRoIHRoZSBMaWNlbnNlLgovLyBZb3UgbWF5IG9idGFpbiBhIGNvcHkgb2YgdGhlIExpY2Vuc2UgYXQKLy8KLy8gICAgICBodHRwOi8vd3d3LmFwYWNoZS5vcmcvbGljZW5zZXMvTElDRU5TRS0yLjAKLy8KLy8gVW5sZXNzIHJlcXVpcmVkIGJ5IGFwcGxpY2FibGUgbGF3IG9yIGFncmVlZCB0byBpbiB3cml0aW5nLCBzb2Z0d2FyZQovLyBkaXN0cmlidXRlZCB1bmRlciB0aGUgTGljZW5zZSBpcyBkaXN0cmlidXRlZCBvbiBhbiAiQVMgSVMiIEJBU0lTLAovLyBXSVRIT1VUIFdBUlJBTlRJRVMgT1IgQ09ORElUSU9OUyBPRiBBTlkgS0lORCwgZWl0aGVyIGV4cHJlc3Mgb3IgaW1wbGllZC4KLy8gU2VlIHRoZSBMaWNlbnNlIGZvciB0aGUgc3BlY2lmaWMgbGFuZ3VhZ2UgZ292ZXJuaW5nIHBlcm1pc3Npb25zIGFuZAovLyBsaW1pdGF0aW9ucyB1bmRlciB0aGUgTGljZW5zZS4KCi8qKgogKiBAZmlsZW92ZXJ2aWV3IEhlbHBlcnMgZm9yIGdvb2dsZS5jb2xhYiBQeXRob24gbW9kdWxlLgogKi8KKGZ1bmN0aW9uKHNjb3BlKSB7CmZ1bmN0aW9uIHNwYW4odGV4dCwgc3R5bGVBdHRyaWJ1dGVzID0ge30pIHsKICBjb25zdCBlbGVtZW50ID0gZG9jdW1lbnQuY3JlYXRlRWxlbWVudCgnc3BhbicpOwogIGVsZW1lbnQudGV4dENvbnRlbnQgPSB0ZXh0OwogIGZvciAoY29uc3Qga2V5IG9mIE9iamVjdC5rZXlzKHN0eWxlQXR0cmlidXRlcykpIHsKICAgIGVsZW1lbnQuc3R5bGVba2V5XSA9IHN0eWxlQXR0cmlidXRlc1trZXldOwogIH0KICByZXR1cm4gZWxlbWVudDsKfQoKLy8gTWF4IG51bWJlciBvZiBieXRlcyB3aGljaCB3aWxsIGJlIHVwbG9hZGVkIGF0IGEgdGltZS4KY29uc3QgTUFYX1BBWUxPQURfU0laRSA9IDEwMCAqIDEwMjQ7CgpmdW5jdGlvbiBfdXBsb2FkRmlsZXMoaW5wdXRJZCwgb3V0cHV0SWQpIHsKICBjb25zdCBzdGVwcyA9IHVwbG9hZEZpbGVzU3RlcChpbnB1dElkLCBvdXRwdXRJZCk7CiAgY29uc3Qgb3V0cHV0RWxlbWVudCA9IGRvY3VtZW50LmdldEVsZW1lbnRCeUlkKG91dHB1dElkKTsKICAvLyBDYWNoZSBzdGVwcyBvbiB0aGUgb3V0cHV0RWxlbWVudCB0byBtYWtlIGl0IGF2YWlsYWJsZSBmb3IgdGhlIG5leHQgY2FsbAogIC8vIHRvIHVwbG9hZEZpbGVzQ29udGludWUgZnJvbSBQeXRob24uCiAgb3V0cHV0RWxlbWVudC5zdGVwcyA9IHN0ZXBzOwoKICByZXR1cm4gX3VwbG9hZEZpbGVzQ29udGludWUob3V0cHV0SWQpOwp9CgovLyBUaGlzIGlzIHJvdWdobHkgYW4gYXN5bmMgZ2VuZXJhdG9yIChub3Qgc3VwcG9ydGVkIGluIHRoZSBicm93c2VyIHlldCksCi8vIHdoZXJlIHRoZXJlIGFyZSBtdWx0aXBsZSBhc3luY2hyb25vdXMgc3RlcHMgYW5kIHRoZSBQeXRob24gc2lkZSBpcyBnb2luZwovLyB0byBwb2xsIGZvciBjb21wbGV0aW9uIG9mIGVhY2ggc3RlcC4KLy8gVGhpcyB1c2VzIGEgUHJvbWlzZSB0byBibG9jayB0aGUgcHl0aG9uIHNpZGUgb24gY29tcGxldGlvbiBvZiBlYWNoIHN0ZXAsCi8vIHRoZW4gcGFzc2VzIHRoZSByZXN1bHQgb2YgdGhlIHByZXZpb3VzIHN0ZXAgYXMgdGhlIGlucHV0IHRvIHRoZSBuZXh0IHN0ZXAuCmZ1bmN0aW9uIF91cGxvYWRGaWxlc0NvbnRpbnVlKG91dHB1dElkKSB7CiAgY29uc3Qgb3V0cHV0RWxlbWVudCA9IGRvY3VtZW50LmdldEVsZW1lbnRCeUlkKG91dHB1dElkKTsKICBjb25zdCBzdGVwcyA9IG91dHB1dEVsZW1lbnQuc3RlcHM7CgogIGNvbnN0IG5leHQgPSBzdGVwcy5uZXh0KG91dHB1dEVsZW1lbnQubGFzdFByb21pc2VWYWx1ZSk7CiAgcmV0dXJuIFByb21pc2UucmVzb2x2ZShuZXh0LnZhbHVlLnByb21pc2UpLnRoZW4oKHZhbHVlKSA9PiB7CiAgICAvLyBDYWNoZSB0aGUgbGFzdCBwcm9taXNlIHZhbHVlIHRvIG1ha2UgaXQgYXZhaWxhYmxlIHRvIHRoZSBuZXh0CiAgICAvLyBzdGVwIG9mIHRoZSBnZW5lcmF0b3IuCiAgICBvdXRwdXRFbGVtZW50Lmxhc3RQcm9taXNlVmFsdWUgPSB2YWx1ZTsKICAgIHJldHVybiBuZXh0LnZhbHVlLnJlc3BvbnNlOwogIH0pOwp9CgovKioKICogR2VuZXJhdG9yIGZ1bmN0aW9uIHdoaWNoIGlzIGNhbGxlZCBiZXR3ZWVuIGVhY2ggYXN5bmMgc3RlcCBvZiB0aGUgdXBsb2FkCiAqIHByb2Nlc3MuCiAqIEBwYXJhbSB7c3RyaW5nfSBpbnB1dElkIEVsZW1lbnQgSUQgb2YgdGhlIGlucHV0IGZpbGUgcGlja2VyIGVsZW1lbnQuCiAqIEBwYXJhbSB7c3RyaW5nfSBvdXRwdXRJZCBFbGVtZW50IElEIG9mIHRoZSBvdXRwdXQgZGlzcGxheS4KICogQHJldHVybiB7IUl0ZXJhYmxlPCFPYmplY3Q+fSBJdGVyYWJsZSBvZiBuZXh0IHN0ZXBzLgogKi8KZnVuY3Rpb24qIHVwbG9hZEZpbGVzU3RlcChpbnB1dElkLCBvdXRwdXRJZCkgewogIGNvbnN0IGlucHV0RWxlbWVudCA9IGRvY3VtZW50LmdldEVsZW1lbnRCeUlkKGlucHV0SWQpOwogIGlucHV0RWxlbWVudC5kaXNhYmxlZCA9IGZhbHNlOwoKICBjb25zdCBvdXRwdXRFbGVtZW50ID0gZG9jdW1lbnQuZ2V0RWxlbWVudEJ5SWQob3V0cHV0SWQpOwogIG91dHB1dEVsZW1lbnQuaW5uZXJIVE1MID0gJyc7CgogIGNvbnN0IHBpY2tlZFByb21pc2UgPSBuZXcgUHJvbWlzZSgocmVzb2x2ZSkgPT4gewogICAgaW5wdXRFbGVtZW50LmFkZEV2ZW50TGlzdGVuZXIoJ2NoYW5nZScsIChlKSA9PiB7CiAgICAgIHJlc29sdmUoZS50YXJnZXQuZmlsZXMpOwogICAgfSk7CiAgfSk7CgogIGNvbnN0IGNhbmNlbCA9IGRvY3VtZW50LmNyZWF0ZUVsZW1lbnQoJ2J1dHRvbicpOwogIGlucHV0RWxlbWVudC5wYXJlbnRFbGVtZW50LmFwcGVuZENoaWxkKGNhbmNlbCk7CiAgY2FuY2VsLnRleHRDb250ZW50ID0gJ0NhbmNlbCB1cGxvYWQnOwogIGNvbnN0IGNhbmNlbFByb21pc2UgPSBuZXcgUHJvbWlzZSgocmVzb2x2ZSkgPT4gewogICAgY2FuY2VsLm9uY2xpY2sgPSAoKSA9PiB7CiAgICAgIHJlc29sdmUobnVsbCk7CiAgICB9OwogIH0pOwoKICAvLyBXYWl0IGZvciB0aGUgdXNlciB0byBwaWNrIHRoZSBmaWxlcy4KICBjb25zdCBmaWxlcyA9IHlpZWxkIHsKICAgIHByb21pc2U6IFByb21pc2UucmFjZShbcGlja2VkUHJvbWlzZSwgY2FuY2VsUHJvbWlzZV0pLAogICAgcmVzcG9uc2U6IHsKICAgICAgYWN0aW9uOiAnc3RhcnRpbmcnLAogICAgfQogIH07CgogIGNhbmNlbC5yZW1vdmUoKTsKCiAgLy8gRGlzYWJsZSB0aGUgaW5wdXQgZWxlbWVudCBzaW5jZSBmdXJ0aGVyIHBpY2tzIGFyZSBub3QgYWxsb3dlZC4KICBpbnB1dEVsZW1lbnQuZGlzYWJsZWQgPSB0cnVlOwoKICBpZiAoIWZpbGVzKSB7CiAgICByZXR1cm4gewogICAgICByZXNwb25zZTogewogICAgICAgIGFjdGlvbjogJ2NvbXBsZXRlJywKICAgICAgfQogICAgfTsKICB9CgogIGZvciAoY29uc3QgZmlsZSBvZiBmaWxlcykgewogICAgY29uc3QgbGkgPSBkb2N1bWVudC5jcmVhdGVFbGVtZW50KCdsaScpOwogICAgbGkuYXBwZW5kKHNwYW4oZmlsZS5uYW1lLCB7Zm9udFdlaWdodDogJ2JvbGQnfSkpOwogICAgbGkuYXBwZW5kKHNwYW4oCiAgICAgICAgYCgke2ZpbGUudHlwZSB8fCAnbi9hJ30pIC0gJHtmaWxlLnNpemV9IGJ5dGVzLCBgICsKICAgICAgICBgbGFzdCBtb2RpZmllZDogJHsKICAgICAgICAgICAgZmlsZS5sYXN0TW9kaWZpZWREYXRlID8gZmlsZS5sYXN0TW9kaWZpZWREYXRlLnRvTG9jYWxlRGF0ZVN0cmluZygpIDoKICAgICAgICAgICAgICAgICAgICAgICAgICAgICAgICAgICAgJ24vYSd9IC0gYCkpOwogICAgY29uc3QgcGVyY2VudCA9IHNwYW4oJzAlIGRvbmUnKTsKICAgIGxpLmFwcGVuZENoaWxkKHBlcmNlbnQpOwoKICAgIG91dHB1dEVsZW1lbnQuYXBwZW5kQ2hpbGQobGkpOwoKICAgIGNvbnN0IGZpbGVEYXRhUHJvbWlzZSA9IG5ldyBQcm9taXNlKChyZXNvbHZlKSA9PiB7CiAgICAgIGNvbnN0IHJlYWRlciA9IG5ldyBGaWxlUmVhZGVyKCk7CiAgICAgIHJlYWRlci5vbmxvYWQgPSAoZSkgPT4gewogICAgICAgIHJlc29sdmUoZS50YXJnZXQucmVzdWx0KTsKICAgICAgfTsKICAgICAgcmVhZGVyLnJlYWRBc0FycmF5QnVmZmVyKGZpbGUpOwogICAgfSk7CiAgICAvLyBXYWl0IGZvciB0aGUgZGF0YSB0byBiZSByZWFkeS4KICAgIGxldCBmaWxlRGF0YSA9IHlpZWxkIHsKICAgICAgcHJvbWlzZTogZmlsZURhdGFQcm9taXNlLAogICAgICByZXNwb25zZTogewogICAgICAgIGFjdGlvbjogJ2NvbnRpbnVlJywKICAgICAgfQogICAgfTsKCiAgICAvLyBVc2UgYSBjaHVua2VkIHNlbmRpbmcgdG8gYXZvaWQgbWVzc2FnZSBzaXplIGxpbWl0cy4gU2VlIGIvNjIxMTU2NjAuCiAgICBsZXQgcG9zaXRpb24gPSAwOwogICAgZG8gewogICAgICBjb25zdCBsZW5ndGggPSBNYXRoLm1pbihmaWxlRGF0YS5ieXRlTGVuZ3RoIC0gcG9zaXRpb24sIE1BWF9QQVlMT0FEX1NJWkUpOwogICAgICBjb25zdCBjaHVuayA9IG5ldyBVaW50OEFycmF5KGZpbGVEYXRhLCBwb3NpdGlvbiwgbGVuZ3RoKTsKICAgICAgcG9zaXRpb24gKz0gbGVuZ3RoOwoKICAgICAgY29uc3QgYmFzZTY0ID0gYnRvYShTdHJpbmcuZnJvbUNoYXJDb2RlLmFwcGx5KG51bGwsIGNodW5rKSk7CiAgICAgIHlpZWxkIHsKICAgICAgICByZXNwb25zZTogewogICAgICAgICAgYWN0aW9uOiAnYXBwZW5kJywKICAgICAgICAgIGZpbGU6IGZpbGUubmFtZSwKICAgICAgICAgIGRhdGE6IGJhc2U2NCwKICAgICAgICB9LAogICAgICB9OwoKICAgICAgbGV0IHBlcmNlbnREb25lID0gZmlsZURhdGEuYnl0ZUxlbmd0aCA9PT0gMCA/CiAgICAgICAgICAxMDAgOgogICAgICAgICAgTWF0aC5yb3VuZCgocG9zaXRpb24gLyBmaWxlRGF0YS5ieXRlTGVuZ3RoKSAqIDEwMCk7CiAgICAgIHBlcmNlbnQudGV4dENvbnRlbnQgPSBgJHtwZXJjZW50RG9uZX0lIGRvbmVgOwoKICAgIH0gd2hpbGUgKHBvc2l0aW9uIDwgZmlsZURhdGEuYnl0ZUxlbmd0aCk7CiAgfQoKICAvLyBBbGwgZG9uZS4KICB5aWVsZCB7CiAgICByZXNwb25zZTogewogICAgICBhY3Rpb246ICdjb21wbGV0ZScsCiAgICB9CiAgfTsKfQoKc2NvcGUuZ29vZ2xlID0gc2NvcGUuZ29vZ2xlIHx8IHt9OwpzY29wZS5nb29nbGUuY29sYWIgPSBzY29wZS5nb29nbGUuY29sYWIgfHwge307CnNjb3BlLmdvb2dsZS5jb2xhYi5fZmlsZXMgPSB7CiAgX3VwbG9hZEZpbGVzLAogIF91cGxvYWRGaWxlc0NvbnRpbnVlLAp9Owp9KShzZWxmKTsK",
              "ok": true,
              "headers": [
                [
                  "content-type",
                  "application/javascript"
                ]
              ],
              "status": 200,
              "status_text": ""
            }
          },
          "base_uri": "https://localhost:8080/",
          "height": 73
        },
        "id": "06KCXO2Wohk3",
        "outputId": "b3a38dec-4c21-4bbc-c67a-826ddfb3bac3"
      },
      "source": [
        "from google.colab import files\n",
        "uploaded = files.upload()"
      ],
      "execution_count": 39,
      "outputs": [
        {
          "output_type": "display_data",
          "data": {
            "text/html": [
              "\n",
              "     <input type=\"file\" id=\"files-4735b902-4502-497c-9594-d9ce16fe254f\" name=\"files[]\" multiple disabled\n",
              "        style=\"border:none\" />\n",
              "     <output id=\"result-4735b902-4502-497c-9594-d9ce16fe254f\">\n",
              "      Upload widget is only available when the cell has been executed in the\n",
              "      current browser session. Please rerun this cell to enable.\n",
              "      </output>\n",
              "      <script src=\"/nbextensions/google.colab/files.js\"></script> "
            ],
            "text/plain": [
              "<IPython.core.display.HTML object>"
            ]
          },
          "metadata": {
            "tags": []
          }
        },
        {
          "output_type": "stream",
          "text": [
            "Saving day.csv to day.csv\n"
          ],
          "name": "stdout"
        }
      ]
    },
    {
      "cell_type": "code",
      "metadata": {
        "colab": {
          "base_uri": "https://localhost:8080/",
          "height": 203
        },
        "id": "hpvVLOFOr6vT",
        "outputId": "c337e6e3-04aa-4be4-e0b5-73648fe56cea"
      },
      "source": [
        "import io \n",
        "bike_df = pd.read_csv(io.BytesIO(uploaded['day.csv']))\n",
        "bike_df.head(5)"
      ],
      "execution_count": 41,
      "outputs": [
        {
          "output_type": "execute_result",
          "data": {
            "text/html": [
              "<div>\n",
              "<style scoped>\n",
              "    .dataframe tbody tr th:only-of-type {\n",
              "        vertical-align: middle;\n",
              "    }\n",
              "\n",
              "    .dataframe tbody tr th {\n",
              "        vertical-align: top;\n",
              "    }\n",
              "\n",
              "    .dataframe thead th {\n",
              "        text-align: right;\n",
              "    }\n",
              "</style>\n",
              "<table border=\"1\" class=\"dataframe\">\n",
              "  <thead>\n",
              "    <tr style=\"text-align: right;\">\n",
              "      <th></th>\n",
              "      <th>instant</th>\n",
              "      <th>dteday</th>\n",
              "      <th>season</th>\n",
              "      <th>yr</th>\n",
              "      <th>mnth</th>\n",
              "      <th>holiday</th>\n",
              "      <th>weekday</th>\n",
              "      <th>workingday</th>\n",
              "      <th>weathersit</th>\n",
              "      <th>temp</th>\n",
              "      <th>atemp</th>\n",
              "      <th>hum</th>\n",
              "      <th>windspeed</th>\n",
              "      <th>casual</th>\n",
              "      <th>registered</th>\n",
              "      <th>cnt</th>\n",
              "    </tr>\n",
              "  </thead>\n",
              "  <tbody>\n",
              "    <tr>\n",
              "      <th>0</th>\n",
              "      <td>1</td>\n",
              "      <td>2011-01-01</td>\n",
              "      <td>1</td>\n",
              "      <td>0</td>\n",
              "      <td>1</td>\n",
              "      <td>0</td>\n",
              "      <td>6</td>\n",
              "      <td>0</td>\n",
              "      <td>2</td>\n",
              "      <td>0.344167</td>\n",
              "      <td>0.363625</td>\n",
              "      <td>0.805833</td>\n",
              "      <td>0.160446</td>\n",
              "      <td>331</td>\n",
              "      <td>654</td>\n",
              "      <td>985</td>\n",
              "    </tr>\n",
              "    <tr>\n",
              "      <th>1</th>\n",
              "      <td>2</td>\n",
              "      <td>2011-01-02</td>\n",
              "      <td>1</td>\n",
              "      <td>0</td>\n",
              "      <td>1</td>\n",
              "      <td>0</td>\n",
              "      <td>0</td>\n",
              "      <td>0</td>\n",
              "      <td>2</td>\n",
              "      <td>0.363478</td>\n",
              "      <td>0.353739</td>\n",
              "      <td>0.696087</td>\n",
              "      <td>0.248539</td>\n",
              "      <td>131</td>\n",
              "      <td>670</td>\n",
              "      <td>801</td>\n",
              "    </tr>\n",
              "    <tr>\n",
              "      <th>2</th>\n",
              "      <td>3</td>\n",
              "      <td>2011-01-03</td>\n",
              "      <td>1</td>\n",
              "      <td>0</td>\n",
              "      <td>1</td>\n",
              "      <td>0</td>\n",
              "      <td>1</td>\n",
              "      <td>1</td>\n",
              "      <td>1</td>\n",
              "      <td>0.196364</td>\n",
              "      <td>0.189405</td>\n",
              "      <td>0.437273</td>\n",
              "      <td>0.248309</td>\n",
              "      <td>120</td>\n",
              "      <td>1229</td>\n",
              "      <td>1349</td>\n",
              "    </tr>\n",
              "    <tr>\n",
              "      <th>3</th>\n",
              "      <td>4</td>\n",
              "      <td>2011-01-04</td>\n",
              "      <td>1</td>\n",
              "      <td>0</td>\n",
              "      <td>1</td>\n",
              "      <td>0</td>\n",
              "      <td>2</td>\n",
              "      <td>1</td>\n",
              "      <td>1</td>\n",
              "      <td>0.200000</td>\n",
              "      <td>0.212122</td>\n",
              "      <td>0.590435</td>\n",
              "      <td>0.160296</td>\n",
              "      <td>108</td>\n",
              "      <td>1454</td>\n",
              "      <td>1562</td>\n",
              "    </tr>\n",
              "    <tr>\n",
              "      <th>4</th>\n",
              "      <td>5</td>\n",
              "      <td>2011-01-05</td>\n",
              "      <td>1</td>\n",
              "      <td>0</td>\n",
              "      <td>1</td>\n",
              "      <td>0</td>\n",
              "      <td>3</td>\n",
              "      <td>1</td>\n",
              "      <td>1</td>\n",
              "      <td>0.226957</td>\n",
              "      <td>0.229270</td>\n",
              "      <td>0.436957</td>\n",
              "      <td>0.186900</td>\n",
              "      <td>82</td>\n",
              "      <td>1518</td>\n",
              "      <td>1600</td>\n",
              "    </tr>\n",
              "  </tbody>\n",
              "</table>\n",
              "</div>"
            ],
            "text/plain": [
              "   instant      dteday  season  yr  ...  windspeed  casual  registered   cnt\n",
              "0        1  2011-01-01       1   0  ...   0.160446     331         654   985\n",
              "1        2  2011-01-02       1   0  ...   0.248539     131         670   801\n",
              "2        3  2011-01-03       1   0  ...   0.248309     120        1229  1349\n",
              "3        4  2011-01-04       1   0  ...   0.160296     108        1454  1562\n",
              "4        5  2011-01-05       1   0  ...   0.186900      82        1518  1600\n",
              "\n",
              "[5 rows x 16 columns]"
            ]
          },
          "metadata": {
            "tags": []
          },
          "execution_count": 41
        }
      ]
    },
    {
      "cell_type": "code",
      "metadata": {
        "colab": {
          "base_uri": "https://localhost:8080/",
          "height": 203
        },
        "id": "cNQWKqDVtB9w",
        "outputId": "6e4e8cb5-df99-4b7d-eaa8-f8c43ce7e618"
      },
      "source": [
        "# Renaming the columns\n",
        "bike_df.rename(columns={'instant':'rec_id','dteday':'datetime','yr':'year','mnth':'month','weathersit':'weather_condition',\n",
        "                       'hum':'humidity','cnt':'total_count'},inplace=True)\n",
        "bike_df.head()"
      ],
      "execution_count": 42,
      "outputs": [
        {
          "output_type": "execute_result",
          "data": {
            "text/html": [
              "<div>\n",
              "<style scoped>\n",
              "    .dataframe tbody tr th:only-of-type {\n",
              "        vertical-align: middle;\n",
              "    }\n",
              "\n",
              "    .dataframe tbody tr th {\n",
              "        vertical-align: top;\n",
              "    }\n",
              "\n",
              "    .dataframe thead th {\n",
              "        text-align: right;\n",
              "    }\n",
              "</style>\n",
              "<table border=\"1\" class=\"dataframe\">\n",
              "  <thead>\n",
              "    <tr style=\"text-align: right;\">\n",
              "      <th></th>\n",
              "      <th>rec_id</th>\n",
              "      <th>datetime</th>\n",
              "      <th>season</th>\n",
              "      <th>year</th>\n",
              "      <th>month</th>\n",
              "      <th>holiday</th>\n",
              "      <th>weekday</th>\n",
              "      <th>workingday</th>\n",
              "      <th>weather_condition</th>\n",
              "      <th>temp</th>\n",
              "      <th>atemp</th>\n",
              "      <th>humidity</th>\n",
              "      <th>windspeed</th>\n",
              "      <th>casual</th>\n",
              "      <th>registered</th>\n",
              "      <th>total_count</th>\n",
              "    </tr>\n",
              "  </thead>\n",
              "  <tbody>\n",
              "    <tr>\n",
              "      <th>0</th>\n",
              "      <td>1</td>\n",
              "      <td>2011-01-01</td>\n",
              "      <td>1</td>\n",
              "      <td>0</td>\n",
              "      <td>1</td>\n",
              "      <td>0</td>\n",
              "      <td>6</td>\n",
              "      <td>0</td>\n",
              "      <td>2</td>\n",
              "      <td>0.344167</td>\n",
              "      <td>0.363625</td>\n",
              "      <td>0.805833</td>\n",
              "      <td>0.160446</td>\n",
              "      <td>331</td>\n",
              "      <td>654</td>\n",
              "      <td>985</td>\n",
              "    </tr>\n",
              "    <tr>\n",
              "      <th>1</th>\n",
              "      <td>2</td>\n",
              "      <td>2011-01-02</td>\n",
              "      <td>1</td>\n",
              "      <td>0</td>\n",
              "      <td>1</td>\n",
              "      <td>0</td>\n",
              "      <td>0</td>\n",
              "      <td>0</td>\n",
              "      <td>2</td>\n",
              "      <td>0.363478</td>\n",
              "      <td>0.353739</td>\n",
              "      <td>0.696087</td>\n",
              "      <td>0.248539</td>\n",
              "      <td>131</td>\n",
              "      <td>670</td>\n",
              "      <td>801</td>\n",
              "    </tr>\n",
              "    <tr>\n",
              "      <th>2</th>\n",
              "      <td>3</td>\n",
              "      <td>2011-01-03</td>\n",
              "      <td>1</td>\n",
              "      <td>0</td>\n",
              "      <td>1</td>\n",
              "      <td>0</td>\n",
              "      <td>1</td>\n",
              "      <td>1</td>\n",
              "      <td>1</td>\n",
              "      <td>0.196364</td>\n",
              "      <td>0.189405</td>\n",
              "      <td>0.437273</td>\n",
              "      <td>0.248309</td>\n",
              "      <td>120</td>\n",
              "      <td>1229</td>\n",
              "      <td>1349</td>\n",
              "    </tr>\n",
              "    <tr>\n",
              "      <th>3</th>\n",
              "      <td>4</td>\n",
              "      <td>2011-01-04</td>\n",
              "      <td>1</td>\n",
              "      <td>0</td>\n",
              "      <td>1</td>\n",
              "      <td>0</td>\n",
              "      <td>2</td>\n",
              "      <td>1</td>\n",
              "      <td>1</td>\n",
              "      <td>0.200000</td>\n",
              "      <td>0.212122</td>\n",
              "      <td>0.590435</td>\n",
              "      <td>0.160296</td>\n",
              "      <td>108</td>\n",
              "      <td>1454</td>\n",
              "      <td>1562</td>\n",
              "    </tr>\n",
              "    <tr>\n",
              "      <th>4</th>\n",
              "      <td>5</td>\n",
              "      <td>2011-01-05</td>\n",
              "      <td>1</td>\n",
              "      <td>0</td>\n",
              "      <td>1</td>\n",
              "      <td>0</td>\n",
              "      <td>3</td>\n",
              "      <td>1</td>\n",
              "      <td>1</td>\n",
              "      <td>0.226957</td>\n",
              "      <td>0.229270</td>\n",
              "      <td>0.436957</td>\n",
              "      <td>0.186900</td>\n",
              "      <td>82</td>\n",
              "      <td>1518</td>\n",
              "      <td>1600</td>\n",
              "    </tr>\n",
              "  </tbody>\n",
              "</table>\n",
              "</div>"
            ],
            "text/plain": [
              "   rec_id    datetime  season  year  ...  windspeed  casual  registered  total_count\n",
              "0       1  2011-01-01       1     0  ...   0.160446     331         654          985\n",
              "1       2  2011-01-02       1     0  ...   0.248539     131         670          801\n",
              "2       3  2011-01-03       1     0  ...   0.248309     120        1229         1349\n",
              "3       4  2011-01-04       1     0  ...   0.160296     108        1454         1562\n",
              "4       5  2011-01-05       1     0  ...   0.186900      82        1518         1600\n",
              "\n",
              "[5 rows x 16 columns]"
            ]
          },
          "metadata": {
            "tags": []
          },
          "execution_count": 42
        }
      ]
    },
    {
      "cell_type": "code",
      "metadata": {
        "id": "l2yFiQCiuC3g"
      },
      "source": [
        "#Type casting the datetime and numerical attributes to category\n",
        "\n",
        "bike_df['datetime']=pd.to_datetime(bike_df.datetime)\n",
        "\n",
        "bike_df['season']=bike_df.season.astype('category')\n",
        "bike_df['year']=bike_df.year.astype('category')\n",
        "bike_df['month']=bike_df.month.astype('category')\n",
        "bike_df['holiday']=bike_df.holiday.astype('category')\n",
        "bike_df['weekday']=bike_df.weekday.astype('category')\n",
        "bike_df['workingday']=bike_df.workingday.astype('category')\n",
        "bike_df['weather_condition']=bike_df.weather_condition.astype('category')"
      ],
      "execution_count": 43,
      "outputs": []
    },
    {
      "cell_type": "code",
      "metadata": {
        "colab": {
          "base_uri": "https://localhost:8080/"
        },
        "id": "X-WZzpxIuNvB",
        "outputId": "1c741f64-4572-420b-cd0b-8ef9c31d60e7"
      },
      "source": [
        "#Missing values in dataset\n",
        "bike_df.isnull().sum()"
      ],
      "execution_count": 44,
      "outputs": [
        {
          "output_type": "execute_result",
          "data": {
            "text/plain": [
              "rec_id               0\n",
              "datetime             0\n",
              "season               0\n",
              "year                 0\n",
              "month                0\n",
              "holiday              0\n",
              "weekday              0\n",
              "workingday           0\n",
              "weather_condition    0\n",
              "temp                 0\n",
              "atemp                0\n",
              "humidity             0\n",
              "windspeed            0\n",
              "casual               0\n",
              "registered           0\n",
              "total_count          0\n",
              "dtype: int64"
            ]
          },
          "metadata": {
            "tags": []
          },
          "execution_count": 44
        }
      ]
    },
    {
      "cell_type": "code",
      "metadata": {
        "colab": {
          "base_uri": "https://localhost:8080/",
          "height": 1000
        },
        "id": "HCZ6y3jOuRPC",
        "outputId": "c314ebb3-d62b-416c-bff7-539b6db0a4b0"
      },
      "source": [
        "fig,ax=plt.subplots(figsize=(15,8))\n",
        "sns.set_style('white')\n",
        "#Bar plot for seasonwise monthly distribution of counts\n",
        "sns.barplot(x='month',y='total_count',data=bike_df[['month','total_count','season']],hue='season',ax=ax)\n",
        "ax.set_title('Seasonwise monthly distribution of counts')\n",
        "plt.show()\n",
        "#Bar plot for weekday wise monthly distribution of counts\n",
        "fig,ax1=plt.subplots(figsize=(15,8))\n",
        "sns.barplot(x='month',y='total_count',data=bike_df[['month','total_count','weekday']],hue='weekday',ax=ax1)\n",
        "ax1.set_title('Weekday wise monthly distribution of counts')\n",
        "plt.show()"
      ],
      "execution_count": 45,
      "outputs": [
        {
          "output_type": "display_data",
          "data": {
            "image/png": "[encoded data removed]",
            "text/plain": [
              "<Figure size 1080x576 with 1 Axes>"
            ]
          },
          "metadata": {
            "tags": []
          }
        },
        {
          "output_type": "display_data",
          "data": {
            "image/png": "[encoded data removed]",
            "text/plain": [
              "<Figure size 1080x576 with 1 Axes>"
            ]
          },
          "metadata": {
            "tags": []
          }
        }
      ]
    },
    {
      "cell_type": "code",
      "metadata": {
        "colab": {
          "base_uri": "https://localhost:8080/",
          "height": 513
        },
        "id": "sZCvAxUGuZro",
        "outputId": "bcf2bd52-cff4-41e4-c225-21c922600708"
      },
      "source": [
        "fig,ax=plt.subplots(figsize=(15,8))\n",
        "#Barplot for Holiday distribution of counts\n",
        "sns.barplot(data=bike_df,x='holiday',y='total_count',hue='season')\n",
        "ax.set_title('Holiday wise distribution of counts')\n",
        "plt.show()"
      ],
      "execution_count": 46,
      "outputs": [
        {
          "output_type": "display_data",
          "data": {
            "image/png": "[encoded data removed]",
            "text/plain": [
              "<Figure size 1080x576 with 1 Axes>"
            ]
          },
          "metadata": {
            "tags": []
          }
        }
      ]
    },
    {
      "cell_type": "code",
      "metadata": {
        "colab": {
          "base_uri": "https://localhost:8080/",
          "height": 513
        },
        "id": "e0x_Yxq_uiMx",
        "outputId": "118f8547-1132-477f-f1d1-d51363c78da4"
      },
      "source": [
        "fig,ax=plt.subplots(figsize=(15,8))\n",
        "#Bar plot for workingday distribution of counts\n",
        "sns.barplot(data=bike_df,x='workingday',y='total_count',hue='season')\n",
        "ax.set_title('Workingday wise distribution of counts')\n",
        "plt.show()"
      ],
      "execution_count": 47,
      "outputs": [
        {
          "output_type": "display_data",
          "data": {
            "image/png": "[encoded data removed]",
            "text/plain": [
              "<Figure size 1080x576 with 1 Axes>"
            ]
          },
          "metadata": {
            "tags": []
          }
        }
      ]
    },
    {
      "cell_type": "code",
      "metadata": {
        "colab": {
          "base_uri": "https://localhost:8080/",
          "height": 500
        },
        "id": "-ms13bjPuml_",
        "outputId": "188edb89-a5b8-4eb7-9d5d-172c39931c7c"
      },
      "source": [
        "fig,ax=plt.subplots(figsize=(15,8))\n",
        "#Boxplot for total_count outliers\n",
        "sns.boxplot(data=bike_df[['total_count']])\n",
        "ax.set_title('total_count outliers')\n",
        "plt.show()"
      ],
      "execution_count": 48,
      "outputs": [
        {
          "output_type": "display_data",
          "data": {
            "image/png": "[encoded data removed]",
            "text/plain": [
              "<Figure size 1080x576 with 1 Axes>"
            ]
          },
          "metadata": {
            "tags": []
          }
        }
      ]
    },
    {
      "cell_type": "code",
      "metadata": {
        "colab": {
          "base_uri": "https://localhost:8080/",
          "height": 513
        },
        "id": "q7tLRQqhu5c2",
        "outputId": "0a4c5bc1-3833-4c7d-fc6e-d9c6476c1380"
      },
      "source": [
        "import scipy\n",
        "from scipy import stats\n",
        "#Normal plot\n",
        "fig=plt.figure(figsize=(15,8))\n",
        "stats.probplot(bike_df.total_count.tolist(),dist='norm',plot=plt)\n",
        "plt.show()"
      ],
      "execution_count": 49,
      "outputs": [
        {
          "output_type": "display_data",
          "data": {
            "image/png": "[encoded data removed]",
            "text/plain": [
              "<Figure size 1080x576 with 1 Axes>"
            ]
          },
          "metadata": {
            "tags": []
          }
        }
      ]
    },
    {
      "cell_type": "code",
      "metadata": {
        "colab": {
          "base_uri": "https://localhost:8080/",
          "height": 503
        },
        "id": "qfp1k4jbyDCz",
        "outputId": "cc3643cd-53bd-4aaf-8a88-b5548450c340"
      },
      "source": [
        "#Create the correlation matrix\n",
        "correMtr=bike_df[[\"temp\",\"atemp\",\"humidity\",\"windspeed\",\"casual\",\"registered\",\"total_count\"]].corr()\n",
        "mask=np.array(correMtr)\n",
        "mask[np.tril_indices_from(mask)]=False\n",
        "#Heat map for correlation matrix of attributes\n",
        "fig,ax=plt.subplots(figsize=(15,8))\n",
        "sns.heatmap(correMtr,mask=mask,vmax=0.8,square=True,annot=True,ax=ax)\n",
        "ax.set_title('Correlation matrix of attributes')\n",
        "plt.show()"
      ],
      "execution_count": 50,
      "outputs": [
        {
          "output_type": "display_data",
          "data": {
            "image/png": "[encoded data removed]",
            "text/plain": [
              "<Figure size 1080x576 with 2 Axes>"
            ]
          },
          "metadata": {
            "tags": []
          }
        }
      ]
    },
    {
      "cell_type": "code",
      "metadata": {
        "id": "SwbZuXwwyMLg"
      },
      "source": [
        "from sklearn import preprocessing,metrics,linear_model\n",
        "from sklearn.model_selection import cross_val_score,cross_val_predict,train_test_split"
      ],
      "execution_count": 52,
      "outputs": []
    },
    {
      "cell_type": "code",
      "metadata": {
        "colab": {
          "base_uri": "https://localhost:8080/"
        },
        "id": "mv1PSTKByRY5",
        "outputId": "ba2a453a-687f-4ae8-bb08-99c02354cf1e"
      },
      "source": [
        "#Split the dataset into the train and test data\n",
        "from sklearn.model_selection import train_test_split\n",
        "X_train,X_test,y_train,y_test=train_test_split(bike_df.iloc[:,0:-3],bike_df.iloc[:,-1],test_size=0.3, random_state=42)\n",
        "\n",
        "#Reset train index values\n",
        "X_train.reset_index(inplace=True)\n",
        "y_train=y_train.reset_index()\n",
        "\n",
        "# Reset train index values\n",
        "X_test.reset_index(inplace=True)\n",
        "y_test=y_test.reset_index()\n",
        "\n",
        "print(X_train.shape,X_test.shape,y_train.shape,y_test.shape)\n",
        "print(y_train.head())\n",
        "print(y_test.head())\n"
      ],
      "execution_count": 53,
      "outputs": [
        {
          "output_type": "stream",
          "text": [
            "(511, 14) (220, 14) (511, 2) (220, 2)\n",
            "   index  total_count\n",
            "0    223         4905\n",
            "1    684         5445\n",
            "2    685         5698\n",
            "3    163         5020\n",
            "4    394         3624\n",
            "   index  total_count\n",
            "0    703         6606\n",
            "1     33         1550\n",
            "2    300         3747\n",
            "3    456         6041\n",
            "4    633         7538\n"
          ],
          "name": "stdout"
        }
      ]
    },
    {
      "cell_type": "code",
      "metadata": {
        "id": "zlGR8RVWyUah"
      },
      "source": [
        "#Create a new dataset for train attributes\n",
        "train_attributes=X_train[['season','month','year','weekday','holiday','workingday','weather_condition','humidity','temp','windspeed']]\n",
        "#Create a new dataset for test attributes\n",
        "test_attributes=X_test[['season','month','year','weekday','holiday','workingday','humidity','temp','windspeed','weather_condition']]\n",
        "#categorical attributes\n",
        "cat_attributes=['season','holiday','workingday','weather_condition','year']\n",
        "#numerical attributes\n",
        "num_attributes=['temp','windspeed','humidity','month','weekday']"
      ],
      "execution_count": 54,
      "outputs": []
    },
    {
      "cell_type": "code",
      "metadata": {
        "colab": {
          "base_uri": "https://localhost:8080/",
          "height": 240
        },
        "id": "dNDJ5JtTyi9-",
        "outputId": "9d024cab-020d-441a-a2db-1d6058d7eed7"
      },
      "source": [
        "#To get dummy variables to encode the categorical features to numeric\n",
        "train_encoded_attributes=pd.get_dummies(train_attributes,columns=cat_attributes)\n",
        "print('Shape of transfomed dataframe::',train_encoded_attributes.shape)\n",
        "train_encoded_attributes.head(5)"
      ],
      "execution_count": 55,
      "outputs": [
        {
          "output_type": "stream",
          "text": [
            "Shape of transfomed dataframe:: (511, 18)\n"
          ],
          "name": "stdout"
        },
        {
          "output_type": "execute_result",
          "data": {
            "text/html": [
              "<div>\n",
              "<style scoped>\n",
              "    .dataframe tbody tr th:only-of-type {\n",
              "        vertical-align: middle;\n",
              "    }\n",
              "\n",
              "    .dataframe tbody tr th {\n",
              "        vertical-align: top;\n",
              "    }\n",
              "\n",
              "    .dataframe thead th {\n",
              "        text-align: right;\n",
              "    }\n",
              "</style>\n",
              "<table border=\"1\" class=\"dataframe\">\n",
              "  <thead>\n",
              "    <tr style=\"text-align: right;\">\n",
              "      <th></th>\n",
              "      <th>month</th>\n",
              "      <th>weekday</th>\n",
              "      <th>humidity</th>\n",
              "      <th>temp</th>\n",
              "      <th>windspeed</th>\n",
              "      <th>season_1</th>\n",
              "      <th>season_2</th>\n",
              "      <th>season_3</th>\n",
              "      <th>season_4</th>\n",
              "      <th>holiday_0</th>\n",
              "      <th>holiday_1</th>\n",
              "      <th>workingday_0</th>\n",
              "      <th>workingday_1</th>\n",
              "      <th>weather_condition_1</th>\n",
              "      <th>weather_condition_2</th>\n",
              "      <th>weather_condition_3</th>\n",
              "      <th>year_0</th>\n",
              "      <th>year_1</th>\n",
              "    </tr>\n",
              "  </thead>\n",
              "  <tbody>\n",
              "    <tr>\n",
              "      <th>0</th>\n",
              "      <td>8</td>\n",
              "      <td>5</td>\n",
              "      <td>0.415000</td>\n",
              "      <td>0.708333</td>\n",
              "      <td>0.125621</td>\n",
              "      <td>0</td>\n",
              "      <td>0</td>\n",
              "      <td>1</td>\n",
              "      <td>0</td>\n",
              "      <td>1</td>\n",
              "      <td>0</td>\n",
              "      <td>0</td>\n",
              "      <td>1</td>\n",
              "      <td>1</td>\n",
              "      <td>0</td>\n",
              "      <td>0</td>\n",
              "      <td>1</td>\n",
              "      <td>0</td>\n",
              "    </tr>\n",
              "    <tr>\n",
              "      <th>1</th>\n",
              "      <td>11</td>\n",
              "      <td>4</td>\n",
              "      <td>0.620417</td>\n",
              "      <td>0.321667</td>\n",
              "      <td>0.152987</td>\n",
              "      <td>0</td>\n",
              "      <td>0</td>\n",
              "      <td>0</td>\n",
              "      <td>1</td>\n",
              "      <td>1</td>\n",
              "      <td>0</td>\n",
              "      <td>0</td>\n",
              "      <td>1</td>\n",
              "      <td>0</td>\n",
              "      <td>1</td>\n",
              "      <td>0</td>\n",
              "      <td>0</td>\n",
              "      <td>1</td>\n",
              "    </tr>\n",
              "    <tr>\n",
              "      <th>2</th>\n",
              "      <td>11</td>\n",
              "      <td>5</td>\n",
              "      <td>0.524583</td>\n",
              "      <td>0.345000</td>\n",
              "      <td>0.171025</td>\n",
              "      <td>0</td>\n",
              "      <td>0</td>\n",
              "      <td>0</td>\n",
              "      <td>1</td>\n",
              "      <td>1</td>\n",
              "      <td>0</td>\n",
              "      <td>0</td>\n",
              "      <td>1</td>\n",
              "      <td>1</td>\n",
              "      <td>0</td>\n",
              "      <td>0</td>\n",
              "      <td>0</td>\n",
              "      <td>1</td>\n",
              "    </tr>\n",
              "    <tr>\n",
              "      <th>3</th>\n",
              "      <td>6</td>\n",
              "      <td>1</td>\n",
              "      <td>0.494583</td>\n",
              "      <td>0.635000</td>\n",
              "      <td>0.305350</td>\n",
              "      <td>0</td>\n",
              "      <td>1</td>\n",
              "      <td>0</td>\n",
              "      <td>0</td>\n",
              "      <td>1</td>\n",
              "      <td>0</td>\n",
              "      <td>0</td>\n",
              "      <td>1</td>\n",
              "      <td>1</td>\n",
              "      <td>0</td>\n",
              "      <td>0</td>\n",
              "      <td>1</td>\n",
              "      <td>0</td>\n",
              "    </tr>\n",
              "    <tr>\n",
              "      <th>4</th>\n",
              "      <td>1</td>\n",
              "      <td>1</td>\n",
              "      <td>0.400833</td>\n",
              "      <td>0.269167</td>\n",
              "      <td>0.215792</td>\n",
              "      <td>1</td>\n",
              "      <td>0</td>\n",
              "      <td>0</td>\n",
              "      <td>0</td>\n",
              "      <td>1</td>\n",
              "      <td>0</td>\n",
              "      <td>0</td>\n",
              "      <td>1</td>\n",
              "      <td>1</td>\n",
              "      <td>0</td>\n",
              "      <td>0</td>\n",
              "      <td>0</td>\n",
              "      <td>1</td>\n",
              "    </tr>\n",
              "  </tbody>\n",
              "</table>\n",
              "</div>"
            ],
            "text/plain": [
              "  month weekday  humidity  ...  weather_condition_3  year_0  year_1\n",
              "0     8       5  0.415000  ...                    0       1       0\n",
              "1    11       4  0.620417  ...                    0       0       1\n",
              "2    11       5  0.524583  ...                    0       0       1\n",
              "3     6       1  0.494583  ...                    0       1       0\n",
              "4     1       1  0.400833  ...                    0       0       1\n",
              "\n",
              "[5 rows x 18 columns]"
            ]
          },
          "metadata": {
            "tags": []
          },
          "execution_count": 55
        }
      ]
    },
    {
      "cell_type": "code",
      "metadata": {
        "id": "LXDV14iDymUL"
      },
      "source": [
        "X_train=train_encoded_attributes\n",
        "y_train=y_train.total_count.values"
      ],
      "execution_count": 56,
      "outputs": []
    },
    {
      "cell_type": "code",
      "metadata": {
        "colab": {
          "base_uri": "https://localhost:8080/"
        },
        "id": "qV76ASk4yuR-",
        "outputId": "af9f3ef4-1c5f-43b3-b683-a56f119b3460"
      },
      "source": [
        "# LINEAR REGRESSION MODEL\n",
        "lr_model=linear_model.LinearRegression()\n",
        "lr_model.fit(X_train,y_train)"
      ],
      "execution_count": 57,
      "outputs": [
        {
          "output_type": "execute_result",
          "data": {
            "text/plain": [
              "LinearRegression(copy_X=True, fit_intercept=True, n_jobs=None, normalize=False)"
            ]
          },
          "metadata": {
            "tags": []
          },
          "execution_count": 57
        }
      ]
    },
    {
      "cell_type": "code",
      "metadata": {
        "colab": {
          "base_uri": "https://localhost:8080/"
        },
        "id": "mUtXhn8Vy2bc",
        "outputId": "a5d5a1b0-93b4-4c79-901e-ec18b7ede6ac"
      },
      "source": [
        "#Accuracy of the model\n",
        "lr=lr_model.score(X_train,y_train)\n",
        "print('Accuracy of the model :',lr)\n",
        "print('Model coefficients :',lr_model.coef_)\n",
        "print('Model intercept value :',lr_model.intercept_)"
      ],
      "execution_count": 58,
      "outputs": [
        {
          "output_type": "stream",
          "text": [
            "Accuracy of the model : 0.8164644195384456\n",
            "Model coefficients : [  -25.67964022    69.04524677  -946.11648038  5226.31938879\n",
            " -2526.83165381  -960.7979661    233.21695025   -71.46895155\n",
            "   799.0499674    228.88041979  -228.88041979   -78.248613\n",
            "    78.248613     791.45676629   269.60191415 -1061.05868044\n",
            "  -991.62009894   991.62009894]\n",
            "Model intercept value : 2138.0499819507886\n"
          ],
          "name": "stdout"
        }
      ]
    },
    {
      "cell_type": "code",
      "metadata": {
        "colab": {
          "base_uri": "https://localhost:8080/"
        },
        "id": "l-vz1_jIy_a0",
        "outputId": "29f5a5ca-f118-4f27-a04e-fff08cb17206"
      },
      "source": [
        "predict=cross_val_predict(lr_model,X_train,y_train,cv=3)\n",
        "predict"
      ],
      "execution_count": 59,
      "outputs": [
        {
          "output_type": "execute_result",
          "data": {
            "text/plain": [
              "array([ 5248.7578435 ,  5038.5615668 ,  5806.79339316,  4353.94868702,\n",
              "        3738.02165465,  6781.13199665,  6258.53686563,  3802.32154757,\n",
              "        4679.69060739,  3413.26938345,  5382.26926795,  3103.26413427,\n",
              "        4340.14502978,  5792.02135524,  4357.90482085,  6307.47067538,\n",
              "        4382.53420011,  3356.51602988,   722.55880035,   542.99629923,\n",
              "        7419.07107033,  3747.2639444 ,  5282.38323084,  5494.01243603,\n",
              "        6941.05375802,  7322.95928003,  3629.5886932 ,  3571.12912785,\n",
              "         985.45343201,  4884.05952005,  1644.73801661,  1708.88196943,\n",
              "        1689.90104258,  1295.63879625,  4891.47726849,  5507.81236621,\n",
              "        6015.17425095,  4180.63057735,  5075.38404498,  5941.56769703,\n",
              "        6400.40498745,  4215.81855312,  5962.38814912,  6052.71452714,\n",
              "        3345.73314148,  4096.72004817,  1465.44713372,  3603.17274178,\n",
              "        4587.89942466,  6650.65699064,  1719.93360965,  6128.15135134,\n",
              "        6439.33525805,  3277.84008997,  4592.0786174 ,  3194.61235   ,\n",
              "        1039.88280183,  2100.09613678,   674.30772486,  5224.66730386,\n",
              "        5314.19870803,  4911.06477305,  3739.39082172,  6130.33989227,\n",
              "        5968.45404858,  6295.95877962,  3954.66011045,  3161.72304418,\n",
              "        3512.46233642,  4003.13186901,  2093.3677567 ,  3827.30167223,\n",
              "        6815.93521048,  4135.6591103 ,  4774.56844943,  2452.30835041,\n",
              "        3534.02173852,  4559.07413217,   559.2789428 ,  3780.96495495,\n",
              "        4209.2573621 ,  5018.8490244 ,  4014.31054791,  2522.05802453,\n",
              "        6379.32086471,  3758.08076547,  3963.70346595,  6857.23289985,\n",
              "        4468.69327818,  3646.68591468,  1679.07590025,  3349.16374649,\n",
              "        1413.84032115,  6584.71977541,  6228.8522581 ,  4525.24989433,\n",
              "        3621.41590824,  5024.80981436,  3158.99701117,  1894.42556815,\n",
              "        2661.69174676,  3782.07824139,  5688.56741915,  4854.81563596,\n",
              "        3433.99423773,  6034.8877613 ,  6487.83242733,  7001.6389009 ,\n",
              "        4472.20009687,  6364.06616143,  3206.63812555,  3884.45830175,\n",
              "        1964.66801377,  3320.10969996,  4768.11361833,  2609.16521029,\n",
              "        5948.87053442,  4102.45821637,  1609.40133185,  2709.63783098,\n",
              "        4492.38383371,  3433.58537988,  4832.22105954,  5668.91506398,\n",
              "        6696.47683976,  5999.3365819 ,  4876.9804128 ,  3844.07111493,\n",
              "        7119.74773459,  4288.23361221,  6092.17812689,  4495.4422446 ,\n",
              "        3748.14881943,  6235.51941401,  6940.0886107 ,  5138.70260425,\n",
              "        4072.15746453,  5393.17403548,  4055.88151468,  2901.38279759,\n",
              "        7090.36866639,  3530.06748949,  3437.89836177,  5357.35803769,\n",
              "        3737.56116112,  4343.07354639,  4130.62547043,  2784.12775673,\n",
              "        1262.95634462,  4957.2337275 ,  7131.81091712,  4025.9618221 ,\n",
              "        6272.927947  ,  1121.76529347,  3894.19289799,  1412.23346792,\n",
              "       -1080.60059589,  7343.9965627 ,  4420.96119647,  1043.93191501,\n",
              "        7122.93902903,  4693.44706057,  3743.25298687,  5276.11451025,\n",
              "        4774.84841795,  5149.25360319,  4435.40472163,  6435.05522501,\n",
              "        3083.62731793,  4516.24346931,  3545.50138165,  4909.22732045,\n",
              "        4252.53751345,  1126.81350882,  6181.04950263,  1761.23647304,\n",
              "        6115.1475864 ,  5069.73181108,  4821.81692302,   840.63733012,\n",
              "        5931.6494746 ,  3666.2523984 ,  4423.08013123,  3062.02573944,\n",
              "        1297.93986711,  4585.97663884,  5389.72329221,  5321.01329385,\n",
              "        4321.77942268,  2824.61235309,  4967.27101696,  1079.837322  ,\n",
              "        3189.64891191,  7541.76637869,  5448.85391057,  6856.08497601,\n",
              "        6549.52387812,  5829.35395217,  1821.2465006 ,  5405.61603446,\n",
              "        1726.35624964,  6579.29957877,  7551.52528647,  4016.08933863,\n",
              "         275.16035649,  2969.13540126,  5317.53538753,  4970.26109579,\n",
              "        1481.48779005,  6976.99835452,  6783.08112087,  3808.40638471,\n",
              "        5160.80183776,  4288.99363515,  4075.17773534,  4421.22049504,\n",
              "        5992.20313997,  3417.39782427,  1574.20789082,  7125.72553173,\n",
              "        3632.14342912,  4999.95900239,  1510.32188131,  1973.68115365,\n",
              "        4688.22098856,  1867.37128556,  5154.20256989,  4915.95879725,\n",
              "        4881.34388452,  3916.77480726,  4323.46548599,  3748.5389563 ,\n",
              "        4689.80886887,  6398.16578845,  4173.80409036,  6912.69539657,\n",
              "        4708.32560811,  6637.7234332 ,  6122.57193293,  5190.44014667,\n",
              "        6700.86202056,  6158.22634145,  5597.71357064,  7217.26616722,\n",
              "        6192.72325163,  1131.28000318,  5786.07973736,  5116.07738941,\n",
              "        5065.57819194,  5787.4024731 ,  4630.04351104,  3541.17313124,\n",
              "        5040.56154026,  5820.52843932,  3783.37201873,  3513.9237223 ,\n",
              "        6627.76540663,  6149.25568785,  5319.81652054,  6914.82736033,\n",
              "        6506.36199391,  2899.47995445,  4322.56807613,  6921.01051626,\n",
              "        6478.17785848,  4385.89027797,  3547.85486798,  3810.88714893,\n",
              "        6875.07011249,  6688.8923904 ,  1496.93645769,  4424.95201899,\n",
              "        2332.70579132,  6107.46982278,  3996.78948153,  1902.44940367,\n",
              "        4851.08165036,  3235.20735487,  5281.84213324,  5295.23051031,\n",
              "        6603.94698895,  6427.34304482,  6765.05925139,  5902.86344943,\n",
              "         511.17544881,  6483.81666896,  5841.95393123,  6799.83183618,\n",
              "        1549.99415784,  6124.37766131,  4549.42273189,  4118.84928806,\n",
              "        3846.63870522,  7716.87269537,  7071.42067799,  5831.86167556,\n",
              "        3355.8346255 ,  4460.52494527,  2843.33620829,  5633.26794442,\n",
              "        7133.94372888,  6687.71494735,  6066.55836326,  4652.69705476,\n",
              "        5042.19382689,  7097.82902416,  4934.86588955,  7190.35001209,\n",
              "        3534.72053505,  6061.34581465,  2337.54305673,  4807.15852392,\n",
              "        2895.07090417,  6566.30473669,  4275.52578665,  4799.56584927,\n",
              "        4293.74803493,  5059.05086423,  4324.48483528,  2793.15658629,\n",
              "        3811.32588217,  3738.11400788,  5697.2371383 ,  5450.42056171,\n",
              "        4158.43601692,  3232.32634531,  5686.16473112,  4603.11668529,\n",
              "        4328.06518341,  6480.61935567,  4235.27505784,  4935.97564383,\n",
              "        5773.89803176,  6432.73615948,  5062.82043016,  5722.08037251,\n",
              "        2180.52947557,  5317.28327126,  6987.17391817,  4432.11395944,\n",
              "        4330.60792074,  6490.45614138,  3086.64839786,  4095.5623481 ,\n",
              "        7121.46370075,  3057.05903083,  4464.86297673,  6805.23611332,\n",
              "        4262.77138102,  4361.84360205,  5949.35264451,  1225.20180735,\n",
              "        3255.49157064,  4467.91247103,  3918.94054414,  3360.148994  ,\n",
              "        4182.16536407,  5063.24510371,  5634.1995691 ,  6524.43898756,\n",
              "        3337.90236051,  6131.51334928,  5242.143623  ,  5288.26251213,\n",
              "        6570.3005703 ,  6271.60433579,  5681.52518649,  6360.36678377,\n",
              "        6732.07664258,  1875.53038882,  4873.1499881 ,  5550.83550182,\n",
              "        7195.46269448,  1055.59266582,  6854.90794602,  4077.47583359,\n",
              "        5346.17003527,  5726.08460146,  6127.14387398,  3381.11028878,\n",
              "        7675.17779764,  4394.86523773,  7308.78809171,  5891.52829448,\n",
              "        8018.57653867,  5094.94777078,  5188.49445835,  4230.15975839,\n",
              "        4101.83841181,  5779.2104082 ,  4286.11645294,  1827.85072818,\n",
              "        6307.16756101,  6503.66708545,  7387.63745833,  2699.05630541,\n",
              "        7555.02435571,  1405.30028929,  6600.27800324,  2905.75004492,\n",
              "         946.72927144,  5342.79773559,  3314.72008333,  1218.85086105,\n",
              "        7154.98186678,  4454.59202855,  6864.271285  ,  3604.28168767,\n",
              "        4094.14604185,  5014.31673311,  3863.99997725,  6836.9764339 ,\n",
              "        6120.46743482,  3842.63680763,  1459.33168305,  5894.23362292,\n",
              "        4104.18643037,  4794.57164037,  6189.12976143,   744.41630896,\n",
              "        1518.58610752,  5056.08953972,  1326.39154253,  5356.13249461,\n",
              "        2811.37530572,  5261.30259566,  5056.39361608,  1285.85636051,\n",
              "        3277.40640238,  3837.97175058,  4096.78417169,  5575.06428538,\n",
              "        4941.90498742,  3144.36297304,  4762.52201109,  4926.91000617,\n",
              "        5491.67309325,  6109.19126163,  3781.53886632,  6204.79498702,\n",
              "        1233.82166161,  7351.61790678,  4021.90562147,  1237.80870892,\n",
              "        5748.15528497,  6546.67833039,  3553.12113611,  5023.1201326 ,\n",
              "        1433.48900234,  6282.25359547,  4316.57492556,  5173.14285194,\n",
              "        2844.33859997,  2584.2452702 ,  1928.93597501,  7491.72675492,\n",
              "        3168.71251112,  4609.23459811,  1710.08306124,  3885.82640307,\n",
              "        7094.41039337,  2781.25288279,  3299.82211113,  4240.48139338,\n",
              "        2383.23869788,  4455.35874621,  5556.15784228,  5579.21222095,\n",
              "        7140.52254019,  4728.64494884,  5994.86331787,  6985.33152099,\n",
              "        5745.58166995,  5211.71223698,  6388.95410796,  5516.37649678,\n",
              "        7216.47453756,  1426.77666797,  6449.36536884,  6471.08179873,\n",
              "        4638.1295204 ,  1069.51808965,  3306.17892184,  6420.32673614,\n",
              "        5820.54244616,  4281.90689931,  4714.20509015,  2603.43086348,\n",
              "        4446.84050412,  5392.82722696,  3378.90844649,  3812.44913223,\n",
              "        6950.03097986,  4464.8017923 ,  6442.57630304,  2588.40093287,\n",
              "        3912.56819148,  3062.08038417,  6195.52070619,  3762.46831253,\n",
              "        4606.29365763,  4992.79408192,  3547.90009653,  6247.46137388,\n",
              "        1247.12857756,  5155.76663857,  1903.81160263,  3185.52491176,\n",
              "        4799.43477864,  3902.48986607,  2702.92374897])"
            ]
          },
          "metadata": {
            "tags": []
          },
          "execution_count": 59
        }
      ]
    },
    {
      "cell_type": "code",
      "metadata": {
        "colab": {
          "base_uri": "https://localhost:8080/"
        },
        "id": "bMIi87PdGtA6",
        "outputId": "a271a204-476b-4a69-d6e5-822811a9c125"
      },
      "source": [
        "# Model evalution metrics\n",
        "#R-squared scores\n",
        "from sklearn.model_selection import cross_val_score\n",
        "r2_scores = cross_val_score(lr_model, X_train, y_train, cv=3)\n",
        "print('R-squared scores :',np.average(r2_scores))"
      ],
      "execution_count": 60,
      "outputs": [
        {
          "output_type": "stream",
          "text": [
            "R-squared scores : 0.800187666590512\n"
          ],
          "name": "stdout"
        }
      ]
    },
    {
      "cell_type": "code",
      "metadata": {
        "colab": {
          "base_uri": "https://localhost:8080/",
          "height": 240
        },
        "id": "Sh9bhu9eJqN1",
        "outputId": "72bb41ba-2e30-46ff-ec93-ab6dc8b0e5d1"
      },
      "source": [
        "test_encoded_attributes=pd.get_dummies(test_attributes,columns=cat_attributes)\n",
        "print('Shape of transformed dataframe :',test_encoded_attributes.shape)\n",
        "test_encoded_attributes.head(5)"
      ],
      "execution_count": 61,
      "outputs": [
        {
          "output_type": "stream",
          "text": [
            "Shape of transformed dataframe : (220, 18)\n"
          ],
          "name": "stdout"
        },
        {
          "output_type": "execute_result",
          "data": {
            "text/html": [
              "<div>\n",
              "<style scoped>\n",
              "    .dataframe tbody tr th:only-of-type {\n",
              "        vertical-align: middle;\n",
              "    }\n",
              "\n",
              "    .dataframe tbody tr th {\n",
              "        vertical-align: top;\n",
              "    }\n",
              "\n",
              "    .dataframe thead th {\n",
              "        text-align: right;\n",
              "    }\n",
              "</style>\n",
              "<table border=\"1\" class=\"dataframe\">\n",
              "  <thead>\n",
              "    <tr style=\"text-align: right;\">\n",
              "      <th></th>\n",
              "      <th>month</th>\n",
              "      <th>weekday</th>\n",
              "      <th>humidity</th>\n",
              "      <th>temp</th>\n",
              "      <th>windspeed</th>\n",
              "      <th>season_1</th>\n",
              "      <th>season_2</th>\n",
              "      <th>season_3</th>\n",
              "      <th>season_4</th>\n",
              "      <th>holiday_0</th>\n",
              "      <th>holiday_1</th>\n",
              "      <th>workingday_0</th>\n",
              "      <th>workingday_1</th>\n",
              "      <th>weather_condition_1</th>\n",
              "      <th>weather_condition_2</th>\n",
              "      <th>weather_condition_3</th>\n",
              "      <th>year_0</th>\n",
              "      <th>year_1</th>\n",
              "    </tr>\n",
              "  </thead>\n",
              "  <tbody>\n",
              "    <tr>\n",
              "      <th>0</th>\n",
              "      <td>12</td>\n",
              "      <td>2</td>\n",
              "      <td>0.733750</td>\n",
              "      <td>0.475833</td>\n",
              "      <td>0.174129</td>\n",
              "      <td>0</td>\n",
              "      <td>0</td>\n",
              "      <td>0</td>\n",
              "      <td>1</td>\n",
              "      <td>1</td>\n",
              "      <td>0</td>\n",
              "      <td>0</td>\n",
              "      <td>1</td>\n",
              "      <td>1</td>\n",
              "      <td>0</td>\n",
              "      <td>0</td>\n",
              "      <td>0</td>\n",
              "      <td>1</td>\n",
              "    </tr>\n",
              "    <tr>\n",
              "      <th>1</th>\n",
              "      <td>2</td>\n",
              "      <td>4</td>\n",
              "      <td>0.437826</td>\n",
              "      <td>0.186957</td>\n",
              "      <td>0.277752</td>\n",
              "      <td>1</td>\n",
              "      <td>0</td>\n",
              "      <td>0</td>\n",
              "      <td>0</td>\n",
              "      <td>1</td>\n",
              "      <td>0</td>\n",
              "      <td>0</td>\n",
              "      <td>1</td>\n",
              "      <td>1</td>\n",
              "      <td>0</td>\n",
              "      <td>0</td>\n",
              "      <td>1</td>\n",
              "      <td>0</td>\n",
              "    </tr>\n",
              "    <tr>\n",
              "      <th>2</th>\n",
              "      <td>10</td>\n",
              "      <td>5</td>\n",
              "      <td>0.585833</td>\n",
              "      <td>0.330833</td>\n",
              "      <td>0.229479</td>\n",
              "      <td>0</td>\n",
              "      <td>0</td>\n",
              "      <td>0</td>\n",
              "      <td>1</td>\n",
              "      <td>1</td>\n",
              "      <td>0</td>\n",
              "      <td>0</td>\n",
              "      <td>1</td>\n",
              "      <td>0</td>\n",
              "      <td>1</td>\n",
              "      <td>0</td>\n",
              "      <td>1</td>\n",
              "      <td>0</td>\n",
              "    </tr>\n",
              "    <tr>\n",
              "      <th>3</th>\n",
              "      <td>4</td>\n",
              "      <td>0</td>\n",
              "      <td>0.676250</td>\n",
              "      <td>0.425833</td>\n",
              "      <td>0.172267</td>\n",
              "      <td>0</td>\n",
              "      <td>1</td>\n",
              "      <td>0</td>\n",
              "      <td>0</td>\n",
              "      <td>1</td>\n",
              "      <td>0</td>\n",
              "      <td>1</td>\n",
              "      <td>0</td>\n",
              "      <td>0</td>\n",
              "      <td>1</td>\n",
              "      <td>0</td>\n",
              "      <td>0</td>\n",
              "      <td>1</td>\n",
              "    </tr>\n",
              "    <tr>\n",
              "      <th>4</th>\n",
              "      <td>9</td>\n",
              "      <td>2</td>\n",
              "      <td>0.570000</td>\n",
              "      <td>0.550000</td>\n",
              "      <td>0.236321</td>\n",
              "      <td>0</td>\n",
              "      <td>0</td>\n",
              "      <td>0</td>\n",
              "      <td>1</td>\n",
              "      <td>1</td>\n",
              "      <td>0</td>\n",
              "      <td>0</td>\n",
              "      <td>1</td>\n",
              "      <td>1</td>\n",
              "      <td>0</td>\n",
              "      <td>0</td>\n",
              "      <td>0</td>\n",
              "      <td>1</td>\n",
              "    </tr>\n",
              "  </tbody>\n",
              "</table>\n",
              "</div>"
            ],
            "text/plain": [
              "  month weekday  humidity  ...  weather_condition_3  year_0  year_1\n",
              "0    12       2  0.733750  ...                    0       0       1\n",
              "1     2       4  0.437826  ...                    0       1       0\n",
              "2    10       5  0.585833  ...                    0       1       0\n",
              "3     4       0  0.676250  ...                    0       0       1\n",
              "4     9       2  0.570000  ...                    0       0       1\n",
              "\n",
              "[5 rows x 18 columns]"
            ]
          },
          "metadata": {
            "tags": []
          },
          "execution_count": 61
        }
      ]
    },
    {
      "cell_type": "code",
      "metadata": {
        "id": "1E5QAO3CM_8c"
      },
      "source": [
        "#Test dataset for prediction\n",
        "X_test=test_encoded_attributes\n",
        "y_test=y_test.total_count.values"
      ],
      "execution_count": 62,
      "outputs": []
    },
    {
      "cell_type": "code",
      "metadata": {
        "colab": {
          "base_uri": "https://localhost:8080/"
        },
        "id": "8y36Xvt_NDwo",
        "outputId": "3e6046da-e875-4ffa-9d8b-2b5f57b9d861"
      },
      "source": [
        "#predict the model\n",
        "lr_pred=lr_model.predict(X_test)\n",
        "lr_pred"
      ],
      "execution_count": 63,
      "outputs": [
        {
          "output_type": "execute_result",
          "data": {
            "text/plain": [
              "array([6209.88825553, 1370.06947696, 3205.55849425, 4830.84047714,\n",
              "       6672.32546573, 6947.08528843,  677.27161672, 1930.19985524,\n",
              "       6960.37730963, 6853.05955207, 2796.28434677, 2106.72243383,\n",
              "       4459.62259931, 5490.76139515, 2170.94843429, 1815.33408557,\n",
              "       2159.74379601, 7467.50546535, 5480.85944359, 2610.61755996,\n",
              "       6931.75427888, 7827.1631451 , 5537.40521413, 1260.01881383,\n",
              "       1239.58201011, 4482.33688527, 2513.51830313, 6726.24746139,\n",
              "       3855.1594353 , 5814.58439125, 3101.81978124, 4246.0992367 ,\n",
              "       6352.07728202, 6798.30987499, 5789.57985271, 5421.74100249,\n",
              "       6682.04863246, 5853.2718865 , 3185.1535458 ,  800.50999346,\n",
              "       4499.93257987, 3739.00277023, 6910.64022695, 4066.40570202,\n",
              "       6915.07188273, 1642.61427789, 4803.6959788 , 4710.75028654,\n",
              "       6375.22762156, 4601.3646879 , 3109.14207514, 2841.35338182,\n",
              "       1820.66354148, 5587.80018272, 4624.6432182 , 4086.58284626,\n",
              "       4701.90383703, 3042.28041307, 4366.68721862, 6624.05914999,\n",
              "       5008.17818826, 6206.0850059 , 2589.295495  , 6734.04571104,\n",
              "       5798.56398767, 7756.36240274, 6843.62972925, 5177.45392408,\n",
              "       1567.79811849, 6033.27377508, 2645.35678416, 2116.74197946,\n",
              "       3359.88009175, 4347.1106471 , 4368.07426014, 3224.06416712,\n",
              "       5375.67853867, 4244.48993455,  971.26573434, 5651.76507688,\n",
              "       2539.52360485, 3029.71045065, 5886.91253113, 3548.9261752 ,\n",
              "       3876.37397246, 4048.79252757, 4705.41692675, 3432.3450328 ,\n",
              "       3733.7721028 , 3210.87697816,  706.59898846, 6826.9136283 ,\n",
              "       5926.40033283, 4849.90430531, 3155.61501524, 3287.05215449,\n",
              "       4499.49824937, 2629.93888088, 3594.00505512, 5045.96355793,\n",
              "       7167.3340647 , 4470.6836175 , 6540.79512144, 3145.81759715,\n",
              "       2770.61108937, 5607.15027825, 1093.25623471, 2676.90471923,\n",
              "       7028.12924891,  934.13136833, 5235.05937792, 6298.09772013,\n",
              "       3411.80163682, 6379.90839417, 5845.07944141, 3089.05466236,\n",
              "       1410.98356115, 4082.90911947, 4760.38125794, 3226.53637612,\n",
              "       6237.44720792, 2277.2653219 , 3293.9599715 , 1312.69807016,\n",
              "       4399.84809089, 5957.03240315, 5245.6150865 , 2969.42282266,\n",
              "       1961.93147682, 5828.5096941 , 3262.41912086, 4161.88344591,\n",
              "       5436.49105028, 5038.22097871, 4653.67511208, 2463.79727167,\n",
              "       5502.77776345, 6245.32344062, 1481.55512066, 5152.98340385,\n",
              "       4235.61764298, 2059.26127073, 2064.87889058, 5247.40487262,\n",
              "       4207.73008965, 4935.91514517, 4371.03620744, 4663.94400243,\n",
              "       2303.14763315, 3735.30736495, 3329.74238448, 6827.87099547,\n",
              "       3407.9272554 , 4218.27441535, 1210.82949448, 3387.20416582,\n",
              "       4249.58552909, 6576.90824071, 2511.33433525, 5182.53426948,\n",
              "       5837.3768481 , 3580.74610139, 4176.5315933 , 5671.31095795,\n",
              "       1812.96772746, 3606.2728306 , 5453.19090274, 1986.70227025,\n",
              "       3401.82407194, 5339.25848372, 6660.86883933, 6952.27820372,\n",
              "       1131.05529481, 3700.83017021, 3727.6571432 , 5778.84951901,\n",
              "       4150.4624283 , 7406.5533619 , 3844.42830812, 2266.60028231,\n",
              "        400.83041583, 6637.58887604, 6639.99210875, 5098.65473099,\n",
              "       6422.90985821, 6800.46189555, 7502.08914521, 2822.35372087,\n",
              "       5459.45975552, 1242.66012337, 6989.01648851, 3682.06488426,\n",
              "       3881.32102089, 5555.33106456, 3075.71016841, 1648.28893504,\n",
              "       5226.51829878, 3487.03518573, 1363.45167786, 4969.4306055 ,\n",
              "       5215.22053121, 6385.74461309, 5641.79961855, 5398.95796998,\n",
              "       5070.59437173, 1341.96679076, 6622.86709539, 1705.14771063,\n",
              "       6348.26208184, 7411.45510426, 6367.56793344, 5767.1258939 ,\n",
              "       5353.94811131, 3636.21356212, 4692.32630162, 3729.13751576,\n",
              "       7203.35874493, 6314.8567442 , 3803.39914543, 3577.33328174])"
            ]
          },
          "metadata": {
            "tags": []
          },
          "execution_count": 63
        }
      ]
    },
    {
      "cell_type": "code",
      "metadata": {
        "colab": {
          "base_uri": "https://localhost:8080/"
        },
        "id": "5reMkwBXNHKr",
        "outputId": "6a175e79-478b-4075-960d-53004467aa90"
      },
      "source": [
        "import math\n",
        "#Root mean square error \n",
        "rmse=math.sqrt(metrics.mean_squared_error(y_test,lr_pred))\n",
        "#Mean absolute error\n",
        "mae=metrics.mean_absolute_error(y_test,lr_pred)\n",
        "print('Root mean square error :',rmse)\n",
        "print('Mean absolute error :',mae)"
      ],
      "execution_count": 64,
      "outputs": [
        {
          "output_type": "stream",
          "text": [
            "Root mean square error : 782.4072817767152\n",
            "Mean absolute error : 594.5075464350734\n"
          ],
          "name": "stdout"
        }
      ]
    },
    {
      "cell_type": "code",
      "metadata": {
        "colab": {
          "base_uri": "https://localhost:8080/",
          "height": 513
        },
        "id": "SIntM96sNK9X",
        "outputId": "6823326a-5166-4bb9-a026-a3fc45bb3b93"
      },
      "source": [
        "fig, ax = plt.subplots(figsize=(15,8))\n",
        "ax.scatter(y_test, y_test-lr_pred)\n",
        "ax.axhline(lw=2,color='black')\n",
        "ax.set_xlabel('Observed')\n",
        "ax.set_ylabel('Residuals')\n",
        "ax.title.set_text(\"Residual Plot\")\n",
        "plt.show()"
      ],
      "execution_count": 65,
      "outputs": [
        {
          "output_type": "display_data",
          "data": {
            "image/png": "[encoded data removed]",
            "text/plain": [
              "<Figure size 1080x576 with 1 Axes>"
            ]
          },
          "metadata": {
            "tags": []
          }
        }
      ]
    },
    {
      "cell_type": "code",
      "metadata": {
        "id": "UPoNP1_nNP29"
      },
      "source": [
        "# Decision Tree\n",
        "#training the model\n",
        "from sklearn.tree import DecisionTreeRegressor\n",
        "dtr=DecisionTreeRegressor(min_samples_split=2,max_leaf_nodes=10)"
      ],
      "execution_count": 66,
      "outputs": []
    },
    {
      "cell_type": "code",
      "metadata": {
        "colab": {
          "base_uri": "https://localhost:8080/"
        },
        "id": "f5k6-9TsNaRL",
        "outputId": "0f7eeb93-df45-4dd0-80d7-01cf56175ed6"
      },
      "source": [
        "#Fit the trained model\n",
        "dtr.fit(X_train,y_train)"
      ],
      "execution_count": 67,
      "outputs": [
        {
          "output_type": "execute_result",
          "data": {
            "text/plain": [
              "DecisionTreeRegressor(ccp_alpha=0.0, criterion='mse', max_depth=None,\n",
              "                      max_features=None, max_leaf_nodes=10,\n",
              "                      min_impurity_decrease=0.0, min_impurity_split=None,\n",
              "                      min_samples_leaf=1, min_samples_split=2,\n",
              "                      min_weight_fraction_leaf=0.0, presort='deprecated',\n",
              "                      random_state=None, splitter='best')"
            ]
          },
          "metadata": {
            "tags": []
          },
          "execution_count": 67
        }
      ]
    },
    {
      "cell_type": "code",
      "metadata": {
        "colab": {
          "base_uri": "https://localhost:8080/"
        },
        "id": "vLgFHiUUNc0A",
        "outputId": "3fb9450a-7c16-4b1a-ac9a-63fb6f2358f9"
      },
      "source": [
        "#Accuracy score of the model\n",
        "dtr_score=dtr.score(X_train,y_train)\n",
        "print('Accuracy of model :',dtr_score)"
      ],
      "execution_count": 68,
      "outputs": [
        {
          "output_type": "stream",
          "text": [
            "Accuracy of model : 0.8082151777539757\n"
          ],
          "name": "stdout"
        }
      ]
    },
    {
      "cell_type": "code",
      "metadata": {
        "colab": {
          "base_uri": "https://localhost:8080/",
          "height": 816
        },
        "id": "X7vfWR1RNgOo",
        "outputId": "b21baf9b-9f87-4b4b-da6e-1bc42d750d09"
      },
      "source": [
        "#Plot the learned model\n",
        "from sklearn import tree\n",
        "import pydot\n",
        "import graphviz\n",
        "\n",
        "# export the learned model to tree\n",
        "dot_data = tree.export_graphviz(dtr, out_file=None) \n",
        "graph = graphviz.Source(dot_data) \n",
        "graph"
      ],
      "execution_count": 69,
      "outputs": [
        {
          "output_type": "execute_result",
          "data": {
            "text/plain": [
              "<graphviz.files.Source at 0x7fa660b5a710>"
            ],
            "image/svg+xml": "<?xml version=\"1.0\" encoding=\"UTF-8\" standalone=\"no\"?>\n<!DOCTYPE svg PUBLIC \"-//W3C//DTD SVG 1.1//EN\"\n \"http://www.w3.org/Graphics/SVG/1.1/DTD/svg11.dtd\">\n<!-- Generated by graphviz version 2.40.1 (20161225.0304)\n -->\n<!-- Title: Tree Pages: 1 -->\n<svg width=\"1095pt\" height=\"581pt\"\n viewBox=\"0.00 0.00 1094.50 581.00\" xmlns=\"http://www.w3.org/2000/svg\" xmlns:xlink=\"http://www.w3.org/1999/xlink\">\n<g id=\"graph0\" class=\"graph\" transform=\"scale(1 1) rotate(0) translate(4 577)\">\n<title>Tree</title>\n<polygon fill=\"#ffffff\" stroke=\"transparent\" points=\"-4,4 -4,-577 1090.5,-577 1090.5,4 -4,4\"/>\n<!-- 0 -->\n<g id=\"node1\" class=\"node\">\n<title>0</title>\n<polygon fill=\"none\" stroke=\"#000000\" points=\"566.5,-573 440.5,-573 440.5,-505 566.5,-505 566.5,-573\"/>\n<text text-anchor=\"middle\" x=\"503.5\" y=\"-557.8\" font-family=\"Times,serif\" font-size=\"14.00\" fill=\"#000000\">X[3] &lt;= 0.432</text>\n<text text-anchor=\"middle\" x=\"503.5\" y=\"-542.8\" font-family=\"Times,serif\" font-size=\"14.00\" fill=\"#000000\">mse = 3638903.63</text>\n<text text-anchor=\"middle\" x=\"503.5\" y=\"-527.8\" font-family=\"Times,serif\" font-size=\"14.00\" fill=\"#000000\">samples = 511</text>\n<text text-anchor=\"middle\" x=\"503.5\" y=\"-512.8\" font-family=\"Times,serif\" font-size=\"14.00\" fill=\"#000000\">value = 4556.867</text>\n</g>\n<!-- 1 -->\n<g id=\"node2\" class=\"node\">\n<title>1</title>\n<polygon fill=\"none\" stroke=\"#000000\" points=\"494.5,-469 360.5,-469 360.5,-401 494.5,-401 494.5,-469\"/>\n<text text-anchor=\"middle\" x=\"427.5\" y=\"-453.8\" font-family=\"Times,serif\" font-size=\"14.00\" fill=\"#000000\">X[3] &lt;= 0.279</text>\n<text text-anchor=\"middle\" x=\"427.5\" y=\"-438.8\" font-family=\"Times,serif\" font-size=\"14.00\" fill=\"#000000\">mse = 2322161.674</text>\n<text text-anchor=\"middle\" x=\"427.5\" y=\"-423.8\" font-family=\"Times,serif\" font-size=\"14.00\" fill=\"#000000\">samples = 202</text>\n<text text-anchor=\"middle\" x=\"427.5\" y=\"-408.8\" font-family=\"Times,serif\" font-size=\"14.00\" fill=\"#000000\">value = 3060.233</text>\n</g>\n<!-- 0&#45;&gt;1 -->\n<g id=\"edge1\" class=\"edge\">\n<title>0&#45;&gt;1</title>\n<path fill=\"none\" stroke=\"#000000\" d=\"M478.6148,-504.9465C472.1847,-496.1475 465.1837,-486.5672 458.4841,-477.3993\"/>\n<polygon fill=\"#000000\" stroke=\"#000000\" points=\"461.1672,-475.1389 452.4412,-469.13 455.5155,-479.269 461.1672,-475.1389\"/>\n<text text-anchor=\"middle\" x=\"448.5985\" y=\"-490.1329\" font-family=\"Times,serif\" font-size=\"14.00\" fill=\"#000000\">True</text>\n</g>\n<!-- 2 -->\n<g id=\"node13\" class=\"node\">\n<title>2</title>\n<polygon fill=\"none\" stroke=\"#000000\" points=\"718.5,-469 584.5,-469 584.5,-401 718.5,-401 718.5,-469\"/>\n<text text-anchor=\"middle\" x=\"651.5\" y=\"-453.8\" font-family=\"Times,serif\" font-size=\"14.00\" fill=\"#000000\">X[17] &lt;= 0.5</text>\n<text text-anchor=\"middle\" x=\"651.5\" y=\"-438.8\" font-family=\"Times,serif\" font-size=\"14.00\" fill=\"#000000\">mse = 2078174.135</text>\n<text text-anchor=\"middle\" x=\"651.5\" y=\"-423.8\" font-family=\"Times,serif\" font-size=\"14.00\" fill=\"#000000\">samples = 309</text>\n<text text-anchor=\"middle\" x=\"651.5\" y=\"-408.8\" font-family=\"Times,serif\" font-size=\"14.00\" fill=\"#000000\">value = 5535.249</text>\n</g>\n<!-- 0&#45;&gt;2 -->\n<g id=\"edge12\" class=\"edge\">\n<title>0&#45;&gt;2</title>\n<path fill=\"none\" stroke=\"#000000\" d=\"M551.9607,-504.9465C565.6323,-495.3395 580.6294,-484.8009 594.7409,-474.8848\"/>\n<polygon fill=\"#000000\" stroke=\"#000000\" points=\"596.7608,-477.7432 602.9304,-469.13 592.7361,-472.0158 596.7608,-477.7432\"/>\n<text text-anchor=\"middle\" x=\"598.6304\" y=\"-490.0574\" font-family=\"Times,serif\" font-size=\"14.00\" fill=\"#000000\">False</text>\n</g>\n<!-- 5 -->\n<g id=\"node3\" class=\"node\">\n<title>5</title>\n<polygon fill=\"none\" stroke=\"#000000\" points=\"342.5,-357.5 216.5,-357.5 216.5,-304.5 342.5,-304.5 342.5,-357.5\"/>\n<text text-anchor=\"middle\" x=\"279.5\" y=\"-342.3\" font-family=\"Times,serif\" font-size=\"14.00\" fill=\"#000000\">mse = 861076.316</text>\n<text text-anchor=\"middle\" x=\"279.5\" y=\"-327.3\" font-family=\"Times,serif\" font-size=\"14.00\" fill=\"#000000\">samples = 66</text>\n<text text-anchor=\"middle\" x=\"279.5\" y=\"-312.3\" font-family=\"Times,serif\" font-size=\"14.00\" fill=\"#000000\">value = 1848.955</text>\n</g>\n<!-- 1&#45;&gt;5 -->\n<g id=\"edge2\" class=\"edge\">\n<title>1&#45;&gt;5</title>\n<path fill=\"none\" stroke=\"#000000\" d=\"M379.0393,-400.9465C361.9535,-388.9403 342.7972,-375.4791 325.887,-363.5962\"/>\n<polygon fill=\"#000000\" stroke=\"#000000\" points=\"327.4658,-360.428 317.2715,-357.5422 323.4412,-366.1553 327.4658,-360.428\"/>\n</g>\n<!-- 6 -->\n<g id=\"node4\" class=\"node\">\n<title>6</title>\n<polygon fill=\"none\" stroke=\"#000000\" points=\"494.5,-365 360.5,-365 360.5,-297 494.5,-297 494.5,-365\"/>\n<text text-anchor=\"middle\" x=\"427.5\" y=\"-349.8\" font-family=\"Times,serif\" font-size=\"14.00\" fill=\"#000000\">X[16] &lt;= 0.5</text>\n<text text-anchor=\"middle\" x=\"427.5\" y=\"-334.8\" font-family=\"Times,serif\" font-size=\"14.00\" fill=\"#000000\">mse = 1973657.261</text>\n<text text-anchor=\"middle\" x=\"427.5\" y=\"-319.8\" font-family=\"Times,serif\" font-size=\"14.00\" fill=\"#000000\">samples = 136</text>\n<text text-anchor=\"middle\" x=\"427.5\" y=\"-304.8\" font-family=\"Times,serif\" font-size=\"14.00\" fill=\"#000000\">value = 3648.059</text>\n</g>\n<!-- 1&#45;&gt;6 -->\n<g id=\"edge3\" class=\"edge\">\n<title>1&#45;&gt;6</title>\n<path fill=\"none\" stroke=\"#000000\" d=\"M427.5,-400.9465C427.5,-392.776 427.5,-383.9318 427.5,-375.3697\"/>\n<polygon fill=\"#000000\" stroke=\"#000000\" points=\"431.0001,-375.13 427.5,-365.13 424.0001,-375.13 431.0001,-375.13\"/>\n</g>\n<!-- 7 -->\n<g id=\"node5\" class=\"node\">\n<title>7</title>\n<polygon fill=\"none\" stroke=\"#000000\" points=\"342.5,-261 208.5,-261 208.5,-193 342.5,-193 342.5,-261\"/>\n<text text-anchor=\"middle\" x=\"275.5\" y=\"-245.8\" font-family=\"Times,serif\" font-size=\"14.00\" fill=\"#000000\">X[5] &lt;= 0.5</text>\n<text text-anchor=\"middle\" x=\"275.5\" y=\"-230.8\" font-family=\"Times,serif\" font-size=\"14.00\" fill=\"#000000\">mse = 1506149.489</text>\n<text text-anchor=\"middle\" x=\"275.5\" y=\"-215.8\" font-family=\"Times,serif\" font-size=\"14.00\" fill=\"#000000\">samples = 78</text>\n<text text-anchor=\"middle\" x=\"275.5\" y=\"-200.8\" font-family=\"Times,serif\" font-size=\"14.00\" fill=\"#000000\">value = 4339.154</text>\n</g>\n<!-- 6&#45;&gt;7 -->\n<g id=\"edge4\" class=\"edge\">\n<title>6&#45;&gt;7</title>\n<path fill=\"none\" stroke=\"#000000\" d=\"M377.7295,-296.9465C363.6885,-287.3395 348.286,-276.8009 333.7932,-266.8848\"/>\n<polygon fill=\"#000000\" stroke=\"#000000\" points=\"335.6118,-263.8883 325.3823,-261.13 331.659,-269.6655 335.6118,-263.8883\"/>\n</g>\n<!-- 8 -->\n<g id=\"node10\" class=\"node\">\n<title>8</title>\n<polygon fill=\"none\" stroke=\"#000000\" points=\"494.5,-261 360.5,-261 360.5,-193 494.5,-193 494.5,-261\"/>\n<text text-anchor=\"middle\" x=\"427.5\" y=\"-245.8\" font-family=\"Times,serif\" font-size=\"14.00\" fill=\"#000000\">X[8] &lt;= 0.5</text>\n<text text-anchor=\"middle\" x=\"427.5\" y=\"-230.8\" font-family=\"Times,serif\" font-size=\"14.00\" fill=\"#000000\">mse = 1096277.226</text>\n<text text-anchor=\"middle\" x=\"427.5\" y=\"-215.8\" font-family=\"Times,serif\" font-size=\"14.00\" fill=\"#000000\">samples = 58</text>\n<text text-anchor=\"middle\" x=\"427.5\" y=\"-200.8\" font-family=\"Times,serif\" font-size=\"14.00\" fill=\"#000000\">value = 2718.655</text>\n</g>\n<!-- 6&#45;&gt;8 -->\n<g id=\"edge9\" class=\"edge\">\n<title>6&#45;&gt;8</title>\n<path fill=\"none\" stroke=\"#000000\" d=\"M427.5,-296.9465C427.5,-288.776 427.5,-279.9318 427.5,-271.3697\"/>\n<polygon fill=\"#000000\" stroke=\"#000000\" points=\"431.0001,-271.13 427.5,-261.13 424.0001,-271.13 431.0001,-271.13\"/>\n</g>\n<!-- 13 -->\n<g id=\"node6\" class=\"node\">\n<title>13</title>\n<polygon fill=\"none\" stroke=\"#000000\" points=\"196.5,-157 62.5,-157 62.5,-89 196.5,-89 196.5,-157\"/>\n<text text-anchor=\"middle\" x=\"129.5\" y=\"-141.8\" font-family=\"Times,serif\" font-size=\"14.00\" fill=\"#000000\">X[2] &lt;= 0.765</text>\n<text text-anchor=\"middle\" x=\"129.5\" y=\"-126.8\" font-family=\"Times,serif\" font-size=\"14.00\" fill=\"#000000\">mse = 1672261.794</text>\n<text text-anchor=\"middle\" x=\"129.5\" y=\"-111.8\" font-family=\"Times,serif\" font-size=\"14.00\" fill=\"#000000\">samples = 42</text>\n<text text-anchor=\"middle\" x=\"129.5\" y=\"-96.8\" font-family=\"Times,serif\" font-size=\"14.00\" fill=\"#000000\">value = 4885.333</text>\n</g>\n<!-- 7&#45;&gt;13 -->\n<g id=\"edge5\" class=\"edge\">\n<title>7&#45;&gt;13</title>\n<path fill=\"none\" stroke=\"#000000\" d=\"M227.6941,-192.9465C214.3334,-183.4293 199.6893,-172.9978 185.8826,-163.163\"/>\n<polygon fill=\"#000000\" stroke=\"#000000\" points=\"187.5888,-160.0811 177.4133,-157.13 183.5275,-165.7826 187.5888,-160.0811\"/>\n</g>\n<!-- 14 -->\n<g id=\"node9\" class=\"node\">\n<title>14</title>\n<polygon fill=\"none\" stroke=\"#000000\" points=\"340.5,-149.5 214.5,-149.5 214.5,-96.5 340.5,-96.5 340.5,-149.5\"/>\n<text text-anchor=\"middle\" x=\"277.5\" y=\"-134.3\" font-family=\"Times,serif\" font-size=\"14.00\" fill=\"#000000\">mse = 558285.275</text>\n<text text-anchor=\"middle\" x=\"277.5\" y=\"-119.3\" font-family=\"Times,serif\" font-size=\"14.00\" fill=\"#000000\">samples = 36</text>\n<text text-anchor=\"middle\" x=\"277.5\" y=\"-104.3\" font-family=\"Times,serif\" font-size=\"14.00\" fill=\"#000000\">value = 3701.944</text>\n</g>\n<!-- 7&#45;&gt;14 -->\n<g id=\"edge8\" class=\"edge\">\n<title>7&#45;&gt;14</title>\n<path fill=\"none\" stroke=\"#000000\" d=\"M276.1549,-192.9465C276.3603,-182.2621 276.588,-170.4254 276.7966,-159.5742\"/>\n<polygon fill=\"#000000\" stroke=\"#000000\" points=\"280.2966,-159.6076 276.9896,-149.5422 273.2979,-159.473 280.2966,-159.6076\"/>\n</g>\n<!-- 15 -->\n<g id=\"node7\" class=\"node\">\n<title>15</title>\n<polygon fill=\"none\" stroke=\"#000000\" points=\"119,-53 0,-53 0,0 119,0 119,-53\"/>\n<text text-anchor=\"middle\" x=\"59.5\" y=\"-37.8\" font-family=\"Times,serif\" font-size=\"14.00\" fill=\"#000000\">mse = 867075.21</text>\n<text text-anchor=\"middle\" x=\"59.5\" y=\"-22.8\" font-family=\"Times,serif\" font-size=\"14.00\" fill=\"#000000\">samples = 32</text>\n<text text-anchor=\"middle\" x=\"59.5\" y=\"-7.8\" font-family=\"Times,serif\" font-size=\"14.00\" fill=\"#000000\">value = 5277.094</text>\n</g>\n<!-- 13&#45;&gt;15 -->\n<g id=\"edge6\" class=\"edge\">\n<title>13&#45;&gt;15</title>\n<path fill=\"none\" stroke=\"#000000\" d=\"M104.8206,-88.9777C98.3775,-80.0954 91.422,-70.5067 84.9402,-61.5711\"/>\n<polygon fill=\"#000000\" stroke=\"#000000\" points=\"87.6079,-59.288 78.903,-53.2485 81.9417,-63.3982 87.6079,-59.288\"/>\n</g>\n<!-- 16 -->\n<g id=\"node8\" class=\"node\">\n<title>16</title>\n<polygon fill=\"none\" stroke=\"#000000\" points=\"263.5,-53 137.5,-53 137.5,0 263.5,0 263.5,-53\"/>\n<text text-anchor=\"middle\" x=\"200.5\" y=\"-37.8\" font-family=\"Times,serif\" font-size=\"14.00\" fill=\"#000000\">mse = 2186138.41</text>\n<text text-anchor=\"middle\" x=\"200.5\" y=\"-22.8\" font-family=\"Times,serif\" font-size=\"14.00\" fill=\"#000000\">samples = 10</text>\n<text text-anchor=\"middle\" x=\"200.5\" y=\"-7.8\" font-family=\"Times,serif\" font-size=\"14.00\" fill=\"#000000\">value = 3631.7</text>\n</g>\n<!-- 13&#45;&gt;16 -->\n<g id=\"edge7\" class=\"edge\">\n<title>13&#45;&gt;16</title>\n<path fill=\"none\" stroke=\"#000000\" d=\"M154.5319,-88.9777C161.0671,-80.0954 168.122,-70.5067 174.6964,-61.5711\"/>\n<polygon fill=\"#000000\" stroke=\"#000000\" points=\"177.7126,-63.3775 180.8198,-53.2485 172.0743,-59.229 177.7126,-63.3775\"/>\n</g>\n<!-- 9 -->\n<g id=\"node11\" class=\"node\">\n<title>9</title>\n<polygon fill=\"none\" stroke=\"#000000\" points=\"488,-149.5 363,-149.5 363,-96.5 488,-96.5 488,-149.5\"/>\n<text text-anchor=\"middle\" x=\"425.5\" y=\"-134.3\" font-family=\"Times,serif\" font-size=\"14.00\" fill=\"#000000\">mse = 495119.812</text>\n<text text-anchor=\"middle\" x=\"425.5\" y=\"-119.3\" font-family=\"Times,serif\" font-size=\"14.00\" fill=\"#000000\">samples = 32</text>\n<text text-anchor=\"middle\" x=\"425.5\" y=\"-104.3\" font-family=\"Times,serif\" font-size=\"14.00\" fill=\"#000000\">value = 1992.25</text>\n</g>\n<!-- 8&#45;&gt;9 -->\n<g id=\"edge10\" class=\"edge\">\n<title>8&#45;&gt;9</title>\n<path fill=\"none\" stroke=\"#000000\" d=\"M426.8451,-192.9465C426.6397,-182.2621 426.412,-170.4254 426.2034,-159.5742\"/>\n<polygon fill=\"#000000\" stroke=\"#000000\" points=\"429.7021,-159.473 426.0104,-149.5422 422.7034,-159.6076 429.7021,-159.473\"/>\n</g>\n<!-- 10 -->\n<g id=\"node12\" class=\"node\">\n<title>10</title>\n<polygon fill=\"none\" stroke=\"#000000\" points=\"632.5,-149.5 506.5,-149.5 506.5,-96.5 632.5,-96.5 632.5,-149.5\"/>\n<text text-anchor=\"middle\" x=\"569.5\" y=\"-134.3\" font-family=\"Times,serif\" font-size=\"14.00\" fill=\"#000000\">mse = 387427.675</text>\n<text text-anchor=\"middle\" x=\"569.5\" y=\"-119.3\" font-family=\"Times,serif\" font-size=\"14.00\" fill=\"#000000\">samples = 26</text>\n<text text-anchor=\"middle\" x=\"569.5\" y=\"-104.3\" font-family=\"Times,serif\" font-size=\"14.00\" fill=\"#000000\">value = 3612.692</text>\n</g>\n<!-- 8&#45;&gt;10 -->\n<g id=\"edge11\" class=\"edge\">\n<title>8&#45;&gt;10</title>\n<path fill=\"none\" stroke=\"#000000\" d=\"M473.9961,-192.9465C490.3893,-180.9403 508.7689,-167.4791 524.9936,-155.5962\"/>\n<polygon fill=\"#000000\" stroke=\"#000000\" points=\"527.2601,-158.2746 533.2597,-149.5422 523.124,-152.6272 527.2601,-158.2746\"/>\n</g>\n<!-- 3 -->\n<g id=\"node14\" class=\"node\">\n<title>3</title>\n<polygon fill=\"none\" stroke=\"#000000\" points=\"714.5,-365 588.5,-365 588.5,-297 714.5,-297 714.5,-365\"/>\n<text text-anchor=\"middle\" x=\"651.5\" y=\"-349.8\" font-family=\"Times,serif\" font-size=\"14.00\" fill=\"#000000\">X[2] &lt;= 0.849</text>\n<text text-anchor=\"middle\" x=\"651.5\" y=\"-334.8\" font-family=\"Times,serif\" font-size=\"14.00\" fill=\"#000000\">mse = 603939.673</text>\n<text text-anchor=\"middle\" x=\"651.5\" y=\"-319.8\" font-family=\"Times,serif\" font-size=\"14.00\" fill=\"#000000\">samples = 147</text>\n<text text-anchor=\"middle\" x=\"651.5\" y=\"-304.8\" font-family=\"Times,serif\" font-size=\"14.00\" fill=\"#000000\">value = 4359.361</text>\n</g>\n<!-- 2&#45;&gt;3 -->\n<g id=\"edge13\" class=\"edge\">\n<title>2&#45;&gt;3</title>\n<path fill=\"none\" stroke=\"#000000\" d=\"M651.5,-400.9465C651.5,-392.776 651.5,-383.9318 651.5,-375.3697\"/>\n<polygon fill=\"#000000\" stroke=\"#000000\" points=\"655.0001,-375.13 651.5,-365.13 648.0001,-375.13 655.0001,-375.13\"/>\n</g>\n<!-- 4 -->\n<g id=\"node17\" class=\"node\">\n<title>4</title>\n<polygon fill=\"none\" stroke=\"#000000\" points=\"938.5,-365 804.5,-365 804.5,-297 938.5,-297 938.5,-365\"/>\n<text text-anchor=\"middle\" x=\"871.5\" y=\"-349.8\" font-family=\"Times,serif\" font-size=\"14.00\" fill=\"#000000\">X[2] &lt;= 0.771</text>\n<text text-anchor=\"middle\" x=\"871.5\" y=\"-334.8\" font-family=\"Times,serif\" font-size=\"14.00\" fill=\"#000000\">mse = 1022709.896</text>\n<text text-anchor=\"middle\" x=\"871.5\" y=\"-319.8\" font-family=\"Times,serif\" font-size=\"14.00\" fill=\"#000000\">samples = 162</text>\n<text text-anchor=\"middle\" x=\"871.5\" y=\"-304.8\" font-family=\"Times,serif\" font-size=\"14.00\" fill=\"#000000\">value = 6602.259</text>\n</g>\n<!-- 2&#45;&gt;4 -->\n<g id=\"edge16\" class=\"edge\">\n<title>2&#45;&gt;4</title>\n<path fill=\"none\" stroke=\"#000000\" d=\"M718.7027,-403.2315C742.8992,-391.7931 770.369,-378.8074 795.2792,-367.0316\"/>\n<polygon fill=\"#000000\" stroke=\"#000000\" points=\"796.7852,-370.1912 804.3301,-362.753 793.7935,-363.8626 796.7852,-370.1912\"/>\n</g>\n<!-- 17 -->\n<g id=\"node15\" class=\"node\">\n<title>17</title>\n<polygon fill=\"none\" stroke=\"#000000\" points=\"638.5,-253.5 512.5,-253.5 512.5,-200.5 638.5,-200.5 638.5,-253.5\"/>\n<text text-anchor=\"middle\" x=\"575.5\" y=\"-238.3\" font-family=\"Times,serif\" font-size=\"14.00\" fill=\"#000000\">mse = 431500.768</text>\n<text text-anchor=\"middle\" x=\"575.5\" y=\"-223.3\" font-family=\"Times,serif\" font-size=\"14.00\" fill=\"#000000\">samples = 135</text>\n<text text-anchor=\"middle\" x=\"575.5\" y=\"-208.3\" font-family=\"Times,serif\" font-size=\"14.00\" fill=\"#000000\">value = 4465.044</text>\n</g>\n<!-- 3&#45;&gt;17 -->\n<g id=\"edge14\" class=\"edge\">\n<title>3&#45;&gt;17</title>\n<path fill=\"none\" stroke=\"#000000\" d=\"M626.6148,-296.9465C618.4044,-285.7113 609.2631,-273.2021 601.007,-261.9043\"/>\n<polygon fill=\"#000000\" stroke=\"#000000\" points=\"603.6223,-259.551 594.8962,-253.5422 597.9705,-263.6812 603.6223,-259.551\"/>\n</g>\n<!-- 18 -->\n<g id=\"node16\" class=\"node\">\n<title>18</title>\n<polygon fill=\"none\" stroke=\"#000000\" points=\"790.5,-253.5 656.5,-253.5 656.5,-200.5 790.5,-200.5 790.5,-253.5\"/>\n<text text-anchor=\"middle\" x=\"723.5\" y=\"-238.3\" font-family=\"Times,serif\" font-size=\"14.00\" fill=\"#000000\">mse = 1004637.576</text>\n<text text-anchor=\"middle\" x=\"723.5\" y=\"-223.3\" font-family=\"Times,serif\" font-size=\"14.00\" fill=\"#000000\">samples = 12</text>\n<text text-anchor=\"middle\" x=\"723.5\" y=\"-208.3\" font-family=\"Times,serif\" font-size=\"14.00\" fill=\"#000000\">value = 3170.417</text>\n</g>\n<!-- 3&#45;&gt;18 -->\n<g id=\"edge15\" class=\"edge\">\n<title>3&#45;&gt;18</title>\n<path fill=\"none\" stroke=\"#000000\" d=\"M675.0755,-296.9465C682.8537,-285.7113 691.5139,-273.2021 699.3355,-261.9043\"/>\n<polygon fill=\"#000000\" stroke=\"#000000\" points=\"702.3102,-263.7564 705.1247,-253.5422 696.5548,-259.7719 702.3102,-263.7564\"/>\n</g>\n<!-- 11 -->\n<g id=\"node18\" class=\"node\">\n<title>11</title>\n<polygon fill=\"none\" stroke=\"#000000\" points=\"934.5,-253.5 808.5,-253.5 808.5,-200.5 934.5,-200.5 934.5,-253.5\"/>\n<text text-anchor=\"middle\" x=\"871.5\" y=\"-238.3\" font-family=\"Times,serif\" font-size=\"14.00\" fill=\"#000000\">mse = 787319.105</text>\n<text text-anchor=\"middle\" x=\"871.5\" y=\"-223.3\" font-family=\"Times,serif\" font-size=\"14.00\" fill=\"#000000\">samples = 140</text>\n<text text-anchor=\"middle\" x=\"871.5\" y=\"-208.3\" font-family=\"Times,serif\" font-size=\"14.00\" fill=\"#000000\">value = 6777.95</text>\n</g>\n<!-- 4&#45;&gt;11 -->\n<g id=\"edge17\" class=\"edge\">\n<title>4&#45;&gt;11</title>\n<path fill=\"none\" stroke=\"#000000\" d=\"M871.5,-296.9465C871.5,-286.2621 871.5,-274.4254 871.5,-263.5742\"/>\n<polygon fill=\"#000000\" stroke=\"#000000\" points=\"875.0001,-263.5421 871.5,-253.5422 868.0001,-263.5422 875.0001,-263.5421\"/>\n</g>\n<!-- 12 -->\n<g id=\"node19\" class=\"node\">\n<title>12</title>\n<polygon fill=\"none\" stroke=\"#000000\" points=\"1086.5,-253.5 952.5,-253.5 952.5,-200.5 1086.5,-200.5 1086.5,-253.5\"/>\n<text text-anchor=\"middle\" x=\"1019.5\" y=\"-238.3\" font-family=\"Times,serif\" font-size=\"14.00\" fill=\"#000000\">mse = 1074227.903</text>\n<text text-anchor=\"middle\" x=\"1019.5\" y=\"-223.3\" font-family=\"Times,serif\" font-size=\"14.00\" fill=\"#000000\">samples = 22</text>\n<text text-anchor=\"middle\" x=\"1019.5\" y=\"-208.3\" font-family=\"Times,serif\" font-size=\"14.00\" fill=\"#000000\">value = 5484.227</text>\n</g>\n<!-- 4&#45;&gt;12 -->\n<g id=\"edge18\" class=\"edge\">\n<title>4&#45;&gt;12</title>\n<path fill=\"none\" stroke=\"#000000\" d=\"M919.9607,-296.9465C937.0465,-284.9403 956.2028,-271.4791 973.113,-259.5962\"/>\n<polygon fill=\"#000000\" stroke=\"#000000\" points=\"975.5588,-262.1553 981.7285,-253.5422 971.5342,-256.428 975.5588,-262.1553\"/>\n</g>\n</g>\n</svg>\n"
          },
          "metadata": {
            "tags": []
          },
          "execution_count": 69
        }
      ]
    },
    {
      "cell_type": "code",
      "metadata": {
        "colab": {
          "base_uri": "https://localhost:8080/"
        },
        "id": "4xIQWaV6Njdu",
        "outputId": "b4078599-8e86-4897-d98f-d3c678a92ca0"
      },
      "source": [
        "#R-squared scores\n",
        "r2_scores = cross_val_score(dtr, X_train, y_train, cv=3)\n",
        "print('R-squared scores :',np.average(r2_scores))"
      ],
      "execution_count": 70,
      "outputs": [
        {
          "output_type": "stream",
          "text": [
            "R-squared scores : 0.7460808156442775\n"
          ],
          "name": "stdout"
        }
      ]
    },
    {
      "cell_type": "code",
      "metadata": {
        "colab": {
          "base_uri": "https://localhost:8080/"
        },
        "id": "7A8MYSuPNo6j",
        "outputId": "78c7102b-e9c4-4995-80d2-2ba1319f713e"
      },
      "source": [
        "#predict the model\n",
        "dtr_pred=dtr.predict(X_test)\n",
        "dtr_pred"
      ],
      "execution_count": 71,
      "outputs": [
        {
          "output_type": "execute_result",
          "data": {
            "text/plain": [
              "array([6777.95      , 1848.95454545, 3612.69230769, 5277.09375   ,\n",
              "       6777.95      , 6777.95      , 1848.95454545, 1992.25      ,\n",
              "       6777.95      , 6777.95      , 1848.95454545, 1992.25      ,\n",
              "       4465.04444444, 5277.09375   , 1992.25      , 1992.25      ,\n",
              "       1992.25      , 6777.95      , 4465.04444444, 1848.95454545,\n",
              "       6777.95      , 6777.95      , 5277.09375   , 1848.95454545,\n",
              "       1992.25      , 4465.04444444, 1992.25      , 6777.95      ,\n",
              "       1848.95454545, 5277.09375   , 1848.95454545, 4465.04444444,\n",
              "       6777.95      , 6777.95      , 6777.95      , 5484.22727273,\n",
              "       6777.95      , 6777.95      , 4465.04444444, 1848.95454545,\n",
              "       4465.04444444, 1848.95454545, 6777.95      , 4465.04444444,\n",
              "       6777.95      , 3612.69230769, 4465.04444444, 6777.95      ,\n",
              "       6777.95      , 5484.22727273, 4465.04444444, 1848.95454545,\n",
              "       1992.25      , 4465.04444444, 4465.04444444, 4465.04444444,\n",
              "       3170.41666667, 4465.04444444, 4465.04444444, 6777.95      ,\n",
              "       6777.95      , 6777.95      , 1992.25      , 6777.95      ,\n",
              "       6777.95      , 6777.95      , 6777.95      , 4465.04444444,\n",
              "       1992.25      , 6777.95      , 4465.04444444, 1992.25      ,\n",
              "       3612.69230769, 4465.04444444, 3701.94444444, 4465.04444444,\n",
              "       5277.09375   , 4465.04444444, 1848.95454545, 4465.04444444,\n",
              "       1848.95454545, 1848.95454545, 5277.09375   , 5484.22727273,\n",
              "       3612.69230769, 3701.94444444, 3170.41666667, 3612.69230769,\n",
              "       3612.69230769, 1848.95454545, 1848.95454545, 6777.95      ,\n",
              "       5277.09375   , 6777.95      , 1848.95454545, 1848.95454545,\n",
              "       4465.04444444, 1848.95454545, 3170.41666667, 4465.04444444,\n",
              "       6777.95      , 4465.04444444, 6777.95      , 1848.95454545,\n",
              "       1992.25      , 5277.09375   , 1992.25      , 1848.95454545,\n",
              "       6777.95      , 1848.95454545, 4465.04444444, 6777.95      ,\n",
              "       3612.69230769, 6777.95      , 5484.22727273, 4465.04444444,\n",
              "       1992.25      , 1848.95454545, 4465.04444444, 1848.95454545,\n",
              "       6777.95      , 3170.41666667, 4465.04444444, 1848.95454545,\n",
              "       4465.04444444, 5277.09375   , 4465.04444444, 3612.69230769,\n",
              "       1992.25      , 6777.95      , 3612.69230769, 3612.69230769,\n",
              "       5277.09375   , 5277.09375   , 4465.04444444, 1992.25      ,\n",
              "       6777.95      , 6777.95      , 1992.25      , 4465.04444444,\n",
              "       4465.04444444, 1992.25      , 1992.25      , 4465.04444444,\n",
              "       3612.69230769, 4465.04444444, 4465.04444444, 5277.09375   ,\n",
              "       3170.41666667, 3612.69230769, 4465.04444444, 6777.95      ,\n",
              "       4465.04444444, 4465.04444444, 1848.95454545, 4465.04444444,\n",
              "       3701.94444444, 6777.95      , 3170.41666667, 4465.04444444,\n",
              "       6777.95      , 3170.41666667, 3612.69230769, 5277.09375   ,\n",
              "       1848.95454545, 4465.04444444, 6777.95      , 1992.25      ,\n",
              "       3612.69230769, 4465.04444444, 6777.95      , 6777.95      ,\n",
              "       1848.95454545, 3701.94444444, 3701.94444444, 6777.95      ,\n",
              "       3701.94444444, 6777.95      , 4465.04444444, 1992.25      ,\n",
              "       1992.25      , 6777.95      , 6777.95      , 5277.09375   ,\n",
              "       6777.95      , 6777.95      , 6777.95      , 1848.95454545,\n",
              "       5277.09375   , 1992.25      , 6777.95      , 3701.94444444,\n",
              "       4465.04444444, 6777.95      , 1848.95454545, 1848.95454545,\n",
              "       4465.04444444, 3701.94444444, 1848.95454545, 4465.04444444,\n",
              "       4465.04444444, 5484.22727273, 5277.09375   , 4465.04444444,\n",
              "       5484.22727273, 3170.41666667, 6777.95      , 1848.95454545,\n",
              "       5484.22727273, 6777.95      , 6777.95      , 4465.04444444,\n",
              "       6777.95      , 1848.95454545, 4465.04444444, 4465.04444444,\n",
              "       6777.95      , 6777.95      , 3170.41666667, 3170.41666667])"
            ]
          },
          "metadata": {
            "tags": []
          },
          "execution_count": 71
        }
      ]
    },
    {
      "cell_type": "code",
      "metadata": {
        "colab": {
          "base_uri": "https://localhost:8080/"
        },
        "id": "G7wMm9GXNs-o",
        "outputId": "b9645847-7a85-4fc9-c49f-c6d4a86d101a"
      },
      "source": [
        "#Root mean square error\n",
        "rmse=math.sqrt(metrics.mean_squared_error(y_test,dtr_pred))\n",
        "#Mean absolute error\n",
        "mae=metrics.mean_absolute_error(y_test,dtr_pred)\n",
        "print('Root mean square error :',rmse)\n",
        "print('Mean absolute error :',mae)"
      ],
      "execution_count": 72,
      "outputs": [
        {
          "output_type": "stream",
          "text": [
            "Root mean square error : 925.7976022448886\n",
            "Mean absolute error : 667.8169018859927\n"
          ],
          "name": "stdout"
        }
      ]
    },
    {
      "cell_type": "code",
      "metadata": {
        "id": "sxroJPqsNwA-"
      },
      "source": [
        "#Random Forest\n",
        "#Training the model\n",
        "from sklearn.ensemble import RandomForestRegressor\n",
        "X_train=train_encoded_attributes\n",
        "rf=RandomForestRegressor(n_estimators=200)"
      ],
      "execution_count": 73,
      "outputs": []
    },
    {
      "cell_type": "code",
      "metadata": {
        "colab": {
          "base_uri": "https://localhost:8080/"
        },
        "id": "tuxBRsg1N139",
        "outputId": "a965ab97-62ef-42c4-ce68-a8a8f59f93d0"
      },
      "source": [
        "#Fit the trained model\n",
        "rf.fit(X_train,y_train)"
      ],
      "execution_count": 74,
      "outputs": [
        {
          "output_type": "execute_result",
          "data": {
            "text/plain": [
              "RandomForestRegressor(bootstrap=True, ccp_alpha=0.0, criterion='mse',\n",
              "                      max_depth=None, max_features='auto', max_leaf_nodes=None,\n",
              "                      max_samples=None, min_impurity_decrease=0.0,\n",
              "                      min_impurity_split=None, min_samples_leaf=1,\n",
              "                      min_samples_split=2, min_weight_fraction_leaf=0.0,\n",
              "                      n_estimators=200, n_jobs=None, oob_score=False,\n",
              "                      random_state=None, verbose=0, warm_start=False)"
            ]
          },
          "metadata": {
            "tags": []
          },
          "execution_count": 74
        }
      ]
    },
    {
      "cell_type": "code",
      "metadata": {
        "colab": {
          "base_uri": "https://localhost:8080/"
        },
        "id": "5MPh-29wN4ZJ",
        "outputId": "2feec2a3-7cfe-4462-9823-dae951cac4a1"
      },
      "source": [
        "#accuracy of the model\n",
        "rf_score =rf.score(X_train,y_train)\n",
        "print('Accuracy of the model :',rf_score)"
      ],
      "execution_count": 75,
      "outputs": [
        {
          "output_type": "stream",
          "text": [
            "Accuracy of the model : 0.9804285830368142\n"
          ],
          "name": "stdout"
        }
      ]
    },
    {
      "cell_type": "code",
      "metadata": {
        "colab": {
          "base_uri": "https://localhost:8080/"
        },
        "id": "6NvQZOgXN7gY",
        "outputId": "21abeb01-ca1c-4091-d9ba-fd73e9c6cc22"
      },
      "source": [
        "#R-squared scores\n",
        "r2_scores = cross_val_score(rf, X_train, y_train, cv=3)\n",
        "print('R-squared scores :',np.average(r2_scores))"
      ],
      "execution_count": 76,
      "outputs": [
        {
          "output_type": "stream",
          "text": [
            "R-squared scores : 0.8484339918559307\n"
          ],
          "name": "stdout"
        }
      ]
    },
    {
      "cell_type": "code",
      "metadata": {
        "colab": {
          "base_uri": "https://localhost:8080/"
        },
        "id": "CIBDIXRiN-57",
        "outputId": "45f28fed-08d1-4781-9f20-87bae17f1fdd"
      },
      "source": [
        "#predict the model\n",
        "X_test=test_encoded_attributes\n",
        "rf_pred=rf.predict(X_test)\n",
        "rf_pred"
      ],
      "execution_count": 77,
      "outputs": [
        {
          "output_type": "execute_result",
          "data": {
            "text/plain": [
              "array([6512.39 , 1562.58 , 3436.28 , 5231.09 , 7459.165, 7248.165,\n",
              "       1457.795, 2301.26 , 7325.01 , 6489.82 , 2040.795, 2905.48 ,\n",
              "       4974.645, 5087.99 , 2020.44 , 2153.89 , 2247.51 , 7834.295,\n",
              "       5010.28 , 2483.88 , 7504.555, 6119.07 , 5843.585, 1759.815,\n",
              "       1727.9  , 4694.015, 1937.085, 7220.16 , 3210.045, 5706.415,\n",
              "       2950.85 , 4059.25 , 6658.245, 7378.99 , 6158.785, 5321.48 ,\n",
              "       7285.17 , 6321.94 , 3166.665,  947.825, 3820.5  , 3315.53 ,\n",
              "       7276.18 , 4512.615, 6920.22 , 2199.96 , 4315.76 , 5456.82 ,\n",
              "       6595.67 , 4049.88 , 4251.01 , 2926.6  , 2309.175, 4395.505,\n",
              "       4631.855, 4228.415, 3477.405, 3783.04 , 4307.085, 6509.93 ,\n",
              "       6155.67 , 6885.61 , 2014.68 , 7392.845, 6488.84 , 6393.82 ,\n",
              "       5930.54 , 4379.25 , 1789.665, 7239.7  , 3807.57 , 2023.01 ,\n",
              "       3155.49 , 4032.505, 4293.695, 3835.215, 4700.775, 4528.385,\n",
              "       1345.575, 4338.47 , 2464.455, 1963.825, 4950.58 , 4193.4  ,\n",
              "       3661.46 , 3387.505, 3972.325, 3730.875, 3456.755, 3314.65 ,\n",
              "       1358.195, 7080.485, 5517.155, 5804.865, 2564.785, 1951.245,\n",
              "       4792.2  , 2798.59 , 3163.195, 4852.23 , 7539.585, 4372.895,\n",
              "       6692.11 , 1878.785, 2439.67 , 5207.34 , 2180.255, 2925.985,\n",
              "       6611.795, 1215.35 , 4483.305, 6737.22 , 3603.465, 7741.205,\n",
              "       5977.295, 4267.735, 1613.22 , 3050.   , 5117.08 , 2265.79 ,\n",
              "       6541.9  , 2671.315, 3492.985, 1457.835, 4450.13 , 5099.955,\n",
              "       4269.335, 3293.825, 2107.24 , 5880.775, 3663.825, 3884.095,\n",
              "       4908.025, 5124.04 , 4941.235, 1898.565, 6143.345, 6528.62 ,\n",
              "       2041.675, 4531.055, 4592.365, 2106.71 , 2165.91 , 4313.14 ,\n",
              "       3698.985, 4995.67 , 4371.55 , 4671.31 , 2632.655, 3647.865,\n",
              "       4637.685, 7389.375, 4092.96 , 4021.85 , 1513.03 , 3803.81 ,\n",
              "       4004.585, 6782.68 , 2873.155, 4617.39 , 6195.62 , 3843.535,\n",
              "       3869.845, 4874.46 , 1538.71 , 3838.01 , 6436.72 , 1787.175,\n",
              "       3614.41 , 4540.605, 6997.87 , 7283.8  , 1498.225, 3284.73 ,\n",
              "       3933.35 , 5963.855, 4099.445, 6371.25 , 3642.93 , 1747.27 ,\n",
              "       1559.045, 7324.845, 7057.16 , 5291.86 , 6748.925, 7962.645,\n",
              "       7576.87 , 2681.575, 4617.58 , 1429.72 , 7378.2  , 3772.685,\n",
              "       3966.175, 6222.71 , 1940.325, 1651.46 , 3926.65 , 3865.36 ,\n",
              "       1035.245, 5078.44 , 4610.45 , 5866.88 , 5179.3  , 5154.945,\n",
              "       5020.   , 2903.425, 7384.125, 1911.42 , 6442.66 , 6408.775,\n",
              "       6701.28 , 3811.995, 5582.39 , 3033.53 , 5039.955, 3961.905,\n",
              "       7265.665, 6840.745, 3456.1  , 3772.605])"
            ]
          },
          "metadata": {
            "tags": []
          },
          "execution_count": 77
        }
      ]
    },
    {
      "cell_type": "code",
      "metadata": {
        "colab": {
          "base_uri": "https://localhost:8080/"
        },
        "id": "ZuwLCZRWOC0B",
        "outputId": "f22651dd-15dc-4840-adb6-f1637941001d"
      },
      "source": [
        "#Root mean square error\n",
        "rmse = math.sqrt(metrics.mean_squared_error(y_test,rf_pred))\n",
        "print('Root mean square error :',rmse)\n",
        "#Mean absolute error\n",
        "mae=metrics.mean_absolute_error(y_test,rf_pred)\n",
        "print('Mean absolute error :',mae)"
      ],
      "execution_count": 78,
      "outputs": [
        {
          "output_type": "stream",
          "text": [
            "Root mean square error : 638.9727695465057\n",
            "Mean absolute error : 424.88179545454545\n"
          ],
          "name": "stdout"
        }
      ]
    },
    {
      "cell_type": "code",
      "metadata": {
        "colab": {
          "base_uri": "https://localhost:8080/",
          "height": 417
        },
        "id": "OWypAyiPOFxz",
        "outputId": "acefe061-30b4-476f-c520-cfa6deaf8584"
      },
      "source": [
        "# Final Model for for predicting the bike rental count on daily basis\n",
        "Bike_df1=pd.DataFrame(y_test,columns=['y_test'])\n",
        "Bike_df2=pd.DataFrame(rf_pred,columns=['rf_pred'])\n",
        "Bike_predictions=pd.merge(Bike_df1,Bike_df2,left_index=True,right_index=True)\n",
        "Bike_predictions.to_csv('Bike_Renting_Python.csv')\n",
        "Bike_predictions"
      ],
      "execution_count": 79,
      "outputs": [
        {
          "output_type": "execute_result",
          "data": {
            "text/html": [
              "<div>\n",
              "<style scoped>\n",
              "    .dataframe tbody tr th:only-of-type {\n",
              "        vertical-align: middle;\n",
              "    }\n",
              "\n",
              "    .dataframe tbody tr th {\n",
              "        vertical-align: top;\n",
              "    }\n",
              "\n",
              "    .dataframe thead th {\n",
              "        text-align: right;\n",
              "    }\n",
              "</style>\n",
              "<table border=\"1\" class=\"dataframe\">\n",
              "  <thead>\n",
              "    <tr style=\"text-align: right;\">\n",
              "      <th></th>\n",
              "      <th>y_test</th>\n",
              "      <th>rf_pred</th>\n",
              "    </tr>\n",
              "  </thead>\n",
              "  <tbody>\n",
              "    <tr>\n",
              "      <th>0</th>\n",
              "      <td>6606</td>\n",
              "      <td>6512.390</td>\n",
              "    </tr>\n",
              "    <tr>\n",
              "      <th>1</th>\n",
              "      <td>1550</td>\n",
              "      <td>1562.580</td>\n",
              "    </tr>\n",
              "    <tr>\n",
              "      <th>2</th>\n",
              "      <td>3747</td>\n",
              "      <td>3436.280</td>\n",
              "    </tr>\n",
              "    <tr>\n",
              "      <th>3</th>\n",
              "      <td>6041</td>\n",
              "      <td>5231.090</td>\n",
              "    </tr>\n",
              "    <tr>\n",
              "      <th>4</th>\n",
              "      <td>7538</td>\n",
              "      <td>7459.165</td>\n",
              "    </tr>\n",
              "    <tr>\n",
              "      <th>...</th>\n",
              "      <td>...</td>\n",
              "      <td>...</td>\n",
              "    </tr>\n",
              "    <tr>\n",
              "      <th>215</th>\n",
              "      <td>2659</td>\n",
              "      <td>3961.905</td>\n",
              "    </tr>\n",
              "    <tr>\n",
              "      <th>216</th>\n",
              "      <td>7338</td>\n",
              "      <td>7265.665</td>\n",
              "    </tr>\n",
              "    <tr>\n",
              "      <th>217</th>\n",
              "      <td>6978</td>\n",
              "      <td>6840.745</td>\n",
              "    </tr>\n",
              "    <tr>\n",
              "      <th>218</th>\n",
              "      <td>4795</td>\n",
              "      <td>3456.100</td>\n",
              "    </tr>\n",
              "    <tr>\n",
              "      <th>219</th>\n",
              "      <td>3855</td>\n",
              "      <td>3772.605</td>\n",
              "    </tr>\n",
              "  </tbody>\n",
              "</table>\n",
              "<p>220 rows × 2 columns</p>\n",
              "</div>"
            ],
            "text/plain": [
              "     y_test   rf_pred\n",
              "0      6606  6512.390\n",
              "1      1550  1562.580\n",
              "2      3747  3436.280\n",
              "3      6041  5231.090\n",
              "4      7538  7459.165\n",
              "..      ...       ...\n",
              "215    2659  3961.905\n",
              "216    7338  7265.665\n",
              "217    6978  6840.745\n",
              "218    4795  3456.100\n",
              "219    3855  3772.605\n",
              "\n",
              "[220 rows x 2 columns]"
            ]
          },
          "metadata": {
            "tags": []
          },
          "execution_count": 79
        }
      ]
    },
    {
      "cell_type": "code",
      "metadata": {
        "id": "XoRaMU2UOQBW"
      },
      "source": [
        ""
      ],
      "execution_count": null,
      "outputs": []
    }
  ]
}